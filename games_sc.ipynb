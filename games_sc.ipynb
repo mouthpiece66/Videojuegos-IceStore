{
 "cells": [
  {
   "cell_type": "markdown",
   "metadata": {
    "tags": [
     "e5c1f0c2-db9f-43a0-99b9-4875c52427e8"
    ]
   },
   "source": [
    "#   Paso 1. "
   ]
  },
  {
   "cell_type": "markdown",
   "metadata": {},
   "source": [
    "## Abre el archivo y estudia información general."
   ]
  },
  {
   "cell_type": "code",
   "execution_count": 1,
   "metadata": {},
   "outputs": [],
   "source": [
    "# Cargar las librerías necesarias.\n",
    "\n",
    "import pandas as pd\n",
    "import numpy as np\n",
    "from matplotlib import pyplot as plt\n",
    "import seaborn as sns\n",
    "import scipy.stats as st"
   ]
  },
  {
   "cell_type": "code",
   "execution_count": 2,
   "metadata": {},
   "outputs": [
    {
     "data": {
      "text/html": [
       "<div>\n",
       "<style scoped>\n",
       "    .dataframe tbody tr th:only-of-type {\n",
       "        vertical-align: middle;\n",
       "    }\n",
       "\n",
       "    .dataframe tbody tr th {\n",
       "        vertical-align: top;\n",
       "    }\n",
       "\n",
       "    .dataframe thead th {\n",
       "        text-align: right;\n",
       "    }\n",
       "</style>\n",
       "<table border=\"1\" class=\"dataframe\">\n",
       "  <thead>\n",
       "    <tr style=\"text-align: right;\">\n",
       "      <th></th>\n",
       "      <th>Name</th>\n",
       "      <th>Platform</th>\n",
       "      <th>Year_of_Release</th>\n",
       "      <th>Genre</th>\n",
       "      <th>NA_sales</th>\n",
       "      <th>EU_sales</th>\n",
       "      <th>JP_sales</th>\n",
       "      <th>Other_sales</th>\n",
       "      <th>Critic_Score</th>\n",
       "      <th>User_Score</th>\n",
       "      <th>Rating</th>\n",
       "    </tr>\n",
       "  </thead>\n",
       "  <tbody>\n",
       "    <tr>\n",
       "      <th>0</th>\n",
       "      <td>Wii Sports</td>\n",
       "      <td>Wii</td>\n",
       "      <td>2006.0</td>\n",
       "      <td>Sports</td>\n",
       "      <td>41.36</td>\n",
       "      <td>28.96</td>\n",
       "      <td>3.77</td>\n",
       "      <td>8.45</td>\n",
       "      <td>76.0</td>\n",
       "      <td>8</td>\n",
       "      <td>E</td>\n",
       "    </tr>\n",
       "    <tr>\n",
       "      <th>1</th>\n",
       "      <td>Super Mario Bros.</td>\n",
       "      <td>NES</td>\n",
       "      <td>1985.0</td>\n",
       "      <td>Platform</td>\n",
       "      <td>29.08</td>\n",
       "      <td>3.58</td>\n",
       "      <td>6.81</td>\n",
       "      <td>0.77</td>\n",
       "      <td>NaN</td>\n",
       "      <td>NaN</td>\n",
       "      <td>NaN</td>\n",
       "    </tr>\n",
       "    <tr>\n",
       "      <th>2</th>\n",
       "      <td>Mario Kart Wii</td>\n",
       "      <td>Wii</td>\n",
       "      <td>2008.0</td>\n",
       "      <td>Racing</td>\n",
       "      <td>15.68</td>\n",
       "      <td>12.76</td>\n",
       "      <td>3.79</td>\n",
       "      <td>3.29</td>\n",
       "      <td>82.0</td>\n",
       "      <td>8.3</td>\n",
       "      <td>E</td>\n",
       "    </tr>\n",
       "    <tr>\n",
       "      <th>3</th>\n",
       "      <td>Wii Sports Resort</td>\n",
       "      <td>Wii</td>\n",
       "      <td>2009.0</td>\n",
       "      <td>Sports</td>\n",
       "      <td>15.61</td>\n",
       "      <td>10.93</td>\n",
       "      <td>3.28</td>\n",
       "      <td>2.95</td>\n",
       "      <td>80.0</td>\n",
       "      <td>8</td>\n",
       "      <td>E</td>\n",
       "    </tr>\n",
       "    <tr>\n",
       "      <th>4</th>\n",
       "      <td>Pokemon Red/Pokemon Blue</td>\n",
       "      <td>GB</td>\n",
       "      <td>1996.0</td>\n",
       "      <td>Role-Playing</td>\n",
       "      <td>11.27</td>\n",
       "      <td>8.89</td>\n",
       "      <td>10.22</td>\n",
       "      <td>1.00</td>\n",
       "      <td>NaN</td>\n",
       "      <td>NaN</td>\n",
       "      <td>NaN</td>\n",
       "    </tr>\n",
       "    <tr>\n",
       "      <th>...</th>\n",
       "      <td>...</td>\n",
       "      <td>...</td>\n",
       "      <td>...</td>\n",
       "      <td>...</td>\n",
       "      <td>...</td>\n",
       "      <td>...</td>\n",
       "      <td>...</td>\n",
       "      <td>...</td>\n",
       "      <td>...</td>\n",
       "      <td>...</td>\n",
       "      <td>...</td>\n",
       "    </tr>\n",
       "    <tr>\n",
       "      <th>16710</th>\n",
       "      <td>Samurai Warriors: Sanada Maru</td>\n",
       "      <td>PS3</td>\n",
       "      <td>2016.0</td>\n",
       "      <td>Action</td>\n",
       "      <td>0.00</td>\n",
       "      <td>0.00</td>\n",
       "      <td>0.01</td>\n",
       "      <td>0.00</td>\n",
       "      <td>NaN</td>\n",
       "      <td>NaN</td>\n",
       "      <td>NaN</td>\n",
       "    </tr>\n",
       "    <tr>\n",
       "      <th>16711</th>\n",
       "      <td>LMA Manager 2007</td>\n",
       "      <td>X360</td>\n",
       "      <td>2006.0</td>\n",
       "      <td>Sports</td>\n",
       "      <td>0.00</td>\n",
       "      <td>0.01</td>\n",
       "      <td>0.00</td>\n",
       "      <td>0.00</td>\n",
       "      <td>NaN</td>\n",
       "      <td>NaN</td>\n",
       "      <td>NaN</td>\n",
       "    </tr>\n",
       "    <tr>\n",
       "      <th>16712</th>\n",
       "      <td>Haitaka no Psychedelica</td>\n",
       "      <td>PSV</td>\n",
       "      <td>2016.0</td>\n",
       "      <td>Adventure</td>\n",
       "      <td>0.00</td>\n",
       "      <td>0.00</td>\n",
       "      <td>0.01</td>\n",
       "      <td>0.00</td>\n",
       "      <td>NaN</td>\n",
       "      <td>NaN</td>\n",
       "      <td>NaN</td>\n",
       "    </tr>\n",
       "    <tr>\n",
       "      <th>16713</th>\n",
       "      <td>Spirits &amp; Spells</td>\n",
       "      <td>GBA</td>\n",
       "      <td>2003.0</td>\n",
       "      <td>Platform</td>\n",
       "      <td>0.01</td>\n",
       "      <td>0.00</td>\n",
       "      <td>0.00</td>\n",
       "      <td>0.00</td>\n",
       "      <td>NaN</td>\n",
       "      <td>NaN</td>\n",
       "      <td>NaN</td>\n",
       "    </tr>\n",
       "    <tr>\n",
       "      <th>16714</th>\n",
       "      <td>Winning Post 8 2016</td>\n",
       "      <td>PSV</td>\n",
       "      <td>2016.0</td>\n",
       "      <td>Simulation</td>\n",
       "      <td>0.00</td>\n",
       "      <td>0.00</td>\n",
       "      <td>0.01</td>\n",
       "      <td>0.00</td>\n",
       "      <td>NaN</td>\n",
       "      <td>NaN</td>\n",
       "      <td>NaN</td>\n",
       "    </tr>\n",
       "  </tbody>\n",
       "</table>\n",
       "<p>16715 rows × 11 columns</p>\n",
       "</div>"
      ],
      "text/plain": [
       "                                Name Platform  Year_of_Release         Genre  \\\n",
       "0                         Wii Sports      Wii           2006.0        Sports   \n",
       "1                  Super Mario Bros.      NES           1985.0      Platform   \n",
       "2                     Mario Kart Wii      Wii           2008.0        Racing   \n",
       "3                  Wii Sports Resort      Wii           2009.0        Sports   \n",
       "4           Pokemon Red/Pokemon Blue       GB           1996.0  Role-Playing   \n",
       "...                              ...      ...              ...           ...   \n",
       "16710  Samurai Warriors: Sanada Maru      PS3           2016.0        Action   \n",
       "16711               LMA Manager 2007     X360           2006.0        Sports   \n",
       "16712        Haitaka no Psychedelica      PSV           2016.0     Adventure   \n",
       "16713               Spirits & Spells      GBA           2003.0      Platform   \n",
       "16714            Winning Post 8 2016      PSV           2016.0    Simulation   \n",
       "\n",
       "       NA_sales  EU_sales  JP_sales  Other_sales  Critic_Score User_Score  \\\n",
       "0         41.36     28.96      3.77         8.45          76.0          8   \n",
       "1         29.08      3.58      6.81         0.77           NaN        NaN   \n",
       "2         15.68     12.76      3.79         3.29          82.0        8.3   \n",
       "3         15.61     10.93      3.28         2.95          80.0          8   \n",
       "4         11.27      8.89     10.22         1.00           NaN        NaN   \n",
       "...         ...       ...       ...          ...           ...        ...   \n",
       "16710      0.00      0.00      0.01         0.00           NaN        NaN   \n",
       "16711      0.00      0.01      0.00         0.00           NaN        NaN   \n",
       "16712      0.00      0.00      0.01         0.00           NaN        NaN   \n",
       "16713      0.01      0.00      0.00         0.00           NaN        NaN   \n",
       "16714      0.00      0.00      0.01         0.00           NaN        NaN   \n",
       "\n",
       "      Rating  \n",
       "0          E  \n",
       "1        NaN  \n",
       "2          E  \n",
       "3          E  \n",
       "4        NaN  \n",
       "...      ...  \n",
       "16710    NaN  \n",
       "16711    NaN  \n",
       "16712    NaN  \n",
       "16713    NaN  \n",
       "16714    NaN  \n",
       "\n",
       "[16715 rows x 11 columns]"
      ]
     },
     "execution_count": 2,
     "metadata": {},
     "output_type": "execute_result"
    }
   ],
   "source": [
    "# Leer y corregir el archivo en caso de ser necesario.\n",
    "games = pd.read_csv('/datasets/games.csv')\n",
    "\n",
    "games"
   ]
  },
  {
   "cell_type": "code",
   "execution_count": 3,
   "metadata": {},
   "outputs": [
    {
     "name": "stdout",
     "output_type": "stream",
     "text": [
      "<class 'pandas.core.frame.DataFrame'>\n",
      "RangeIndex: 16715 entries, 0 to 16714\n",
      "Data columns (total 11 columns):\n",
      " #   Column           Non-Null Count  Dtype  \n",
      "---  ------           --------------  -----  \n",
      " 0   Name             16713 non-null  object \n",
      " 1   Platform         16715 non-null  object \n",
      " 2   Year_of_Release  16446 non-null  float64\n",
      " 3   Genre            16713 non-null  object \n",
      " 4   NA_sales         16715 non-null  float64\n",
      " 5   EU_sales         16715 non-null  float64\n",
      " 6   JP_sales         16715 non-null  float64\n",
      " 7   Other_sales      16715 non-null  float64\n",
      " 8   Critic_Score     8137 non-null   float64\n",
      " 9   User_Score       10014 non-null  object \n",
      " 10  Rating           9949 non-null   object \n",
      "dtypes: float64(6), object(5)\n",
      "memory usage: 1.4+ MB\n"
     ]
    }
   ],
   "source": [
    "games.info() # Verificar información general de los datos."
   ]
  },
  {
   "cell_type": "markdown",
   "metadata": {},
   "source": [
    "# Paso 2."
   ]
  },
  {
   "cell_type": "markdown",
   "metadata": {},
   "source": [
    "## Preparación de los datos."
   ]
  },
  {
   "cell_type": "markdown",
   "metadata": {},
   "source": [
    "### Reemplaza los nombres de las columnas por minúsculas"
   ]
  },
  {
   "cell_type": "code",
   "execution_count": 4,
   "metadata": {},
   "outputs": [
    {
     "data": {
      "text/plain": [
       "Index(['name', 'platform', 'year_of_release', 'genre', 'na_sales', 'eu_sales',\n",
       "       'jp_sales', 'other_sales', 'critic_score', 'user_score', 'rating'],\n",
       "      dtype='object')"
      ]
     },
     "execution_count": 4,
     "metadata": {},
     "output_type": "execute_result"
    }
   ],
   "source": [
    "# Bucle en los encabezados poniendo todo en minúsculas.\n",
    "new_names_lowered = []\n",
    "for old_names in games.columns:\n",
    "    name_lowered = old_names.lower() #lower() pone todo el texto en minúsculas.\n",
    "    new_names_lowered.append(name_lowered) #append() comando para añadir.\n",
    "\n",
    "games.columns = new_names_lowered\n",
    "\n",
    "games.columns"
   ]
  },
  {
   "cell_type": "code",
   "execution_count": 5,
   "metadata": {},
   "outputs": [
    {
     "data": {
      "text/html": [
       "<div>\n",
       "<style scoped>\n",
       "    .dataframe tbody tr th:only-of-type {\n",
       "        vertical-align: middle;\n",
       "    }\n",
       "\n",
       "    .dataframe tbody tr th {\n",
       "        vertical-align: top;\n",
       "    }\n",
       "\n",
       "    .dataframe thead th {\n",
       "        text-align: right;\n",
       "    }\n",
       "</style>\n",
       "<table border=\"1\" class=\"dataframe\">\n",
       "  <thead>\n",
       "    <tr style=\"text-align: right;\">\n",
       "      <th></th>\n",
       "      <th>name</th>\n",
       "      <th>platform</th>\n",
       "      <th>year_of_release</th>\n",
       "      <th>genre</th>\n",
       "      <th>na_sales</th>\n",
       "      <th>eu_sales</th>\n",
       "      <th>jp_sales</th>\n",
       "      <th>other_sales</th>\n",
       "      <th>critic_score</th>\n",
       "      <th>user_score</th>\n",
       "      <th>rating</th>\n",
       "    </tr>\n",
       "  </thead>\n",
       "  <tbody>\n",
       "    <tr>\n",
       "      <th>0</th>\n",
       "      <td>Wii Sports</td>\n",
       "      <td>Wii</td>\n",
       "      <td>2006.0</td>\n",
       "      <td>Sports</td>\n",
       "      <td>41.36</td>\n",
       "      <td>28.96</td>\n",
       "      <td>3.77</td>\n",
       "      <td>8.45</td>\n",
       "      <td>76.0</td>\n",
       "      <td>8</td>\n",
       "      <td>E</td>\n",
       "    </tr>\n",
       "    <tr>\n",
       "      <th>1</th>\n",
       "      <td>Super Mario Bros.</td>\n",
       "      <td>NES</td>\n",
       "      <td>1985.0</td>\n",
       "      <td>Platform</td>\n",
       "      <td>29.08</td>\n",
       "      <td>3.58</td>\n",
       "      <td>6.81</td>\n",
       "      <td>0.77</td>\n",
       "      <td>NaN</td>\n",
       "      <td>NaN</td>\n",
       "      <td>NaN</td>\n",
       "    </tr>\n",
       "    <tr>\n",
       "      <th>2</th>\n",
       "      <td>Mario Kart Wii</td>\n",
       "      <td>Wii</td>\n",
       "      <td>2008.0</td>\n",
       "      <td>Racing</td>\n",
       "      <td>15.68</td>\n",
       "      <td>12.76</td>\n",
       "      <td>3.79</td>\n",
       "      <td>3.29</td>\n",
       "      <td>82.0</td>\n",
       "      <td>8.3</td>\n",
       "      <td>E</td>\n",
       "    </tr>\n",
       "    <tr>\n",
       "      <th>3</th>\n",
       "      <td>Wii Sports Resort</td>\n",
       "      <td>Wii</td>\n",
       "      <td>2009.0</td>\n",
       "      <td>Sports</td>\n",
       "      <td>15.61</td>\n",
       "      <td>10.93</td>\n",
       "      <td>3.28</td>\n",
       "      <td>2.95</td>\n",
       "      <td>80.0</td>\n",
       "      <td>8</td>\n",
       "      <td>E</td>\n",
       "    </tr>\n",
       "    <tr>\n",
       "      <th>4</th>\n",
       "      <td>Pokemon Red/Pokemon Blue</td>\n",
       "      <td>GB</td>\n",
       "      <td>1996.0</td>\n",
       "      <td>Role-Playing</td>\n",
       "      <td>11.27</td>\n",
       "      <td>8.89</td>\n",
       "      <td>10.22</td>\n",
       "      <td>1.00</td>\n",
       "      <td>NaN</td>\n",
       "      <td>NaN</td>\n",
       "      <td>NaN</td>\n",
       "    </tr>\n",
       "    <tr>\n",
       "      <th>...</th>\n",
       "      <td>...</td>\n",
       "      <td>...</td>\n",
       "      <td>...</td>\n",
       "      <td>...</td>\n",
       "      <td>...</td>\n",
       "      <td>...</td>\n",
       "      <td>...</td>\n",
       "      <td>...</td>\n",
       "      <td>...</td>\n",
       "      <td>...</td>\n",
       "      <td>...</td>\n",
       "    </tr>\n",
       "    <tr>\n",
       "      <th>16710</th>\n",
       "      <td>Samurai Warriors: Sanada Maru</td>\n",
       "      <td>PS3</td>\n",
       "      <td>2016.0</td>\n",
       "      <td>Action</td>\n",
       "      <td>0.00</td>\n",
       "      <td>0.00</td>\n",
       "      <td>0.01</td>\n",
       "      <td>0.00</td>\n",
       "      <td>NaN</td>\n",
       "      <td>NaN</td>\n",
       "      <td>NaN</td>\n",
       "    </tr>\n",
       "    <tr>\n",
       "      <th>16711</th>\n",
       "      <td>LMA Manager 2007</td>\n",
       "      <td>X360</td>\n",
       "      <td>2006.0</td>\n",
       "      <td>Sports</td>\n",
       "      <td>0.00</td>\n",
       "      <td>0.01</td>\n",
       "      <td>0.00</td>\n",
       "      <td>0.00</td>\n",
       "      <td>NaN</td>\n",
       "      <td>NaN</td>\n",
       "      <td>NaN</td>\n",
       "    </tr>\n",
       "    <tr>\n",
       "      <th>16712</th>\n",
       "      <td>Haitaka no Psychedelica</td>\n",
       "      <td>PSV</td>\n",
       "      <td>2016.0</td>\n",
       "      <td>Adventure</td>\n",
       "      <td>0.00</td>\n",
       "      <td>0.00</td>\n",
       "      <td>0.01</td>\n",
       "      <td>0.00</td>\n",
       "      <td>NaN</td>\n",
       "      <td>NaN</td>\n",
       "      <td>NaN</td>\n",
       "    </tr>\n",
       "    <tr>\n",
       "      <th>16713</th>\n",
       "      <td>Spirits &amp; Spells</td>\n",
       "      <td>GBA</td>\n",
       "      <td>2003.0</td>\n",
       "      <td>Platform</td>\n",
       "      <td>0.01</td>\n",
       "      <td>0.00</td>\n",
       "      <td>0.00</td>\n",
       "      <td>0.00</td>\n",
       "      <td>NaN</td>\n",
       "      <td>NaN</td>\n",
       "      <td>NaN</td>\n",
       "    </tr>\n",
       "    <tr>\n",
       "      <th>16714</th>\n",
       "      <td>Winning Post 8 2016</td>\n",
       "      <td>PSV</td>\n",
       "      <td>2016.0</td>\n",
       "      <td>Simulation</td>\n",
       "      <td>0.00</td>\n",
       "      <td>0.00</td>\n",
       "      <td>0.01</td>\n",
       "      <td>0.00</td>\n",
       "      <td>NaN</td>\n",
       "      <td>NaN</td>\n",
       "      <td>NaN</td>\n",
       "    </tr>\n",
       "  </tbody>\n",
       "</table>\n",
       "<p>16715 rows × 11 columns</p>\n",
       "</div>"
      ],
      "text/plain": [
       "                                name platform  year_of_release         genre  \\\n",
       "0                         Wii Sports      Wii           2006.0        Sports   \n",
       "1                  Super Mario Bros.      NES           1985.0      Platform   \n",
       "2                     Mario Kart Wii      Wii           2008.0        Racing   \n",
       "3                  Wii Sports Resort      Wii           2009.0        Sports   \n",
       "4           Pokemon Red/Pokemon Blue       GB           1996.0  Role-Playing   \n",
       "...                              ...      ...              ...           ...   \n",
       "16710  Samurai Warriors: Sanada Maru      PS3           2016.0        Action   \n",
       "16711               LMA Manager 2007     X360           2006.0        Sports   \n",
       "16712        Haitaka no Psychedelica      PSV           2016.0     Adventure   \n",
       "16713               Spirits & Spells      GBA           2003.0      Platform   \n",
       "16714            Winning Post 8 2016      PSV           2016.0    Simulation   \n",
       "\n",
       "       na_sales  eu_sales  jp_sales  other_sales  critic_score user_score  \\\n",
       "0         41.36     28.96      3.77         8.45          76.0          8   \n",
       "1         29.08      3.58      6.81         0.77           NaN        NaN   \n",
       "2         15.68     12.76      3.79         3.29          82.0        8.3   \n",
       "3         15.61     10.93      3.28         2.95          80.0          8   \n",
       "4         11.27      8.89     10.22         1.00           NaN        NaN   \n",
       "...         ...       ...       ...          ...           ...        ...   \n",
       "16710      0.00      0.00      0.01         0.00           NaN        NaN   \n",
       "16711      0.00      0.01      0.00         0.00           NaN        NaN   \n",
       "16712      0.00      0.00      0.01         0.00           NaN        NaN   \n",
       "16713      0.01      0.00      0.00         0.00           NaN        NaN   \n",
       "16714      0.00      0.00      0.01         0.00           NaN        NaN   \n",
       "\n",
       "      rating  \n",
       "0          E  \n",
       "1        NaN  \n",
       "2          E  \n",
       "3          E  \n",
       "4        NaN  \n",
       "...      ...  \n",
       "16710    NaN  \n",
       "16711    NaN  \n",
       "16712    NaN  \n",
       "16713    NaN  \n",
       "16714    NaN  \n",
       "\n",
       "[16715 rows x 11 columns]"
      ]
     },
     "execution_count": 5,
     "metadata": {},
     "output_type": "execute_result"
    }
   ],
   "source": [
    "games"
   ]
  },
  {
   "cell_type": "markdown",
   "metadata": {},
   "source": [
    "###  Convertir los datos a sus tipos necesarios"
   ]
  },
  {
   "cell_type": "code",
   "execution_count": 6,
   "metadata": {
    "scrolled": true
   },
   "outputs": [
    {
     "name": "stdout",
     "output_type": "stream",
     "text": [
      "<class 'pandas.core.frame.DataFrame'>\n",
      "RangeIndex: 16715 entries, 0 to 16714\n",
      "Data columns (total 11 columns):\n",
      " #   Column           Non-Null Count  Dtype  \n",
      "---  ------           --------------  -----  \n",
      " 0   name             16713 non-null  object \n",
      " 1   platform         16715 non-null  object \n",
      " 2   year_of_release  16446 non-null  float64\n",
      " 3   genre            16713 non-null  object \n",
      " 4   na_sales         16715 non-null  float64\n",
      " 5   eu_sales         16715 non-null  float64\n",
      " 6   jp_sales         16715 non-null  float64\n",
      " 7   other_sales      16715 non-null  float64\n",
      " 8   critic_score     8137 non-null   float64\n",
      " 9   user_score       10014 non-null  object \n",
      " 10  rating           9949 non-null   object \n",
      "dtypes: float64(6), object(5)\n",
      "memory usage: 1.4+ MB\n"
     ]
    }
   ],
   "source": [
    "games.info() # Verificar información general de los datos."
   ]
  },
  {
   "cell_type": "code",
   "execution_count": 7,
   "metadata": {},
   "outputs": [
    {
     "data": {
      "text/plain": [
       "0"
      ]
     },
     "execution_count": 7,
     "metadata": {},
     "output_type": "execute_result"
    }
   ],
   "source": [
    "# Se procede a determinar si existen filas totalmente duplicadas.\n",
    "\n",
    "games.duplicated().sum()"
   ]
  },
  {
   "cell_type": "markdown",
   "metadata": {},
   "source": [
    "El siguiente paso es para cambiar los tipos de datos que se necesitan tener para no tener problemas mas adelante en el desarrollo del proyecto."
   ]
  },
  {
   "cell_type": "code",
   "execution_count": 8,
   "metadata": {},
   "outputs": [],
   "source": [
    "# Convertir 'year_of_release' a Int64 (admite valores nulos).\n",
    "games['year_of_release'] = pd.to_numeric(games['year_of_release'], errors = 'coerce').astype('Int64')\n",
    "\n",
    "# Convertir 'user_score' a float, con 'TBD' como NaN.\n",
    "games['user_score'] = pd.to_numeric(games['user_score'], errors='coerce')"
   ]
  },
  {
   "cell_type": "markdown",
   "metadata": {},
   "source": [
    "En la columna **year_of_release** se ha convertido a Int64 (un tipo de dato que admite valores nulos) porque puede haber años ausentes y originalmente estaba como flotante.\n",
    "\n",
    "Por otra parte, en la columna **user_score** que originalmente estaba como object debido a la presencia de la abreviatura \"TBD\" (que significa \"to be determined\"), se ha convertido a float, y los valores \"TBD\" se han tratado como valores ausentes (NaN)."
   ]
  },
  {
   "cell_type": "code",
   "execution_count": 9,
   "metadata": {},
   "outputs": [
    {
     "name": "stdout",
     "output_type": "stream",
     "text": [
      "<class 'pandas.core.frame.DataFrame'>\n",
      "RangeIndex: 16715 entries, 0 to 16714\n",
      "Data columns (total 11 columns):\n",
      " #   Column           Non-Null Count  Dtype  \n",
      "---  ------           --------------  -----  \n",
      " 0   name             16713 non-null  object \n",
      " 1   platform         16715 non-null  object \n",
      " 2   year_of_release  16446 non-null  Int64  \n",
      " 3   genre            16713 non-null  object \n",
      " 4   na_sales         16715 non-null  float64\n",
      " 5   eu_sales         16715 non-null  float64\n",
      " 6   jp_sales         16715 non-null  float64\n",
      " 7   other_sales      16715 non-null  float64\n",
      " 8   critic_score     8137 non-null   float64\n",
      " 9   user_score       7590 non-null   float64\n",
      " 10  rating           9949 non-null   object \n",
      "dtypes: Int64(1), float64(6), object(4)\n",
      "memory usage: 1.4+ MB\n"
     ]
    }
   ],
   "source": [
    "games.info()"
   ]
  },
  {
   "cell_type": "markdown",
   "metadata": {},
   "source": [
    "### Si es necesario, elegir la manera de tratar valores ausentes."
   ]
  },
  {
   "cell_type": "markdown",
   "metadata": {},
   "source": [
    "Los valores ausentes en **year_of_release** y **critic_score** se deben a datos faltantes en el archivo original, y no se ha realizado ninguna imputación, ya que sería arriesgado adivinar estos valores sin más contexto.\n",
    "\n",
    "En **user_score**, los valores \"TBD\" se han dejado como NaN, ya que representan puntuaciones aún por determinar."
   ]
  },
  {
   "cell_type": "markdown",
   "metadata": {},
   "source": [
    "#### Explicaciones posibles de valores faltantes."
   ]
  },
  {
   "cell_type": "markdown",
   "metadata": {},
   "source": [
    "**Puntuaciones faltantes:** Las puntuaciones de críticos o usuarios pueden no haberse recopilado en el momento o pueden estar pendientes, por otra parte, también se puede asumir que son títulos sin puntuación o con una cantidad inferior a la necesaria de reseñas para que se registre en la base de datos.\n",
    "\n",
    "**Fechas de lanzamiento faltantes:** Algunos juegos pueden no haber sido lanzados en todas las regiones o no se dispone de datos exactos."
   ]
  },
  {
   "cell_type": "markdown",
   "metadata": {},
   "source": [
    "### Cálculo de ventas totales"
   ]
  },
  {
   "cell_type": "code",
   "execution_count": 10,
   "metadata": {
    "scrolled": false
   },
   "outputs": [
    {
     "data": {
      "text/html": [
       "<div>\n",
       "<style scoped>\n",
       "    .dataframe tbody tr th:only-of-type {\n",
       "        vertical-align: middle;\n",
       "    }\n",
       "\n",
       "    .dataframe tbody tr th {\n",
       "        vertical-align: top;\n",
       "    }\n",
       "\n",
       "    .dataframe thead th {\n",
       "        text-align: right;\n",
       "    }\n",
       "</style>\n",
       "<table border=\"1\" class=\"dataframe\">\n",
       "  <thead>\n",
       "    <tr style=\"text-align: right;\">\n",
       "      <th></th>\n",
       "      <th>name</th>\n",
       "      <th>platform</th>\n",
       "      <th>year_of_release</th>\n",
       "      <th>genre</th>\n",
       "      <th>na_sales</th>\n",
       "      <th>eu_sales</th>\n",
       "      <th>jp_sales</th>\n",
       "      <th>other_sales</th>\n",
       "      <th>critic_score</th>\n",
       "      <th>user_score</th>\n",
       "      <th>rating</th>\n",
       "      <th>total_sales</th>\n",
       "    </tr>\n",
       "  </thead>\n",
       "  <tbody>\n",
       "    <tr>\n",
       "      <th>0</th>\n",
       "      <td>Wii Sports</td>\n",
       "      <td>Wii</td>\n",
       "      <td>2006</td>\n",
       "      <td>Sports</td>\n",
       "      <td>41.36</td>\n",
       "      <td>28.96</td>\n",
       "      <td>3.77</td>\n",
       "      <td>8.45</td>\n",
       "      <td>76.0</td>\n",
       "      <td>8.0</td>\n",
       "      <td>E</td>\n",
       "      <td>82.54</td>\n",
       "    </tr>\n",
       "    <tr>\n",
       "      <th>1</th>\n",
       "      <td>Super Mario Bros.</td>\n",
       "      <td>NES</td>\n",
       "      <td>1985</td>\n",
       "      <td>Platform</td>\n",
       "      <td>29.08</td>\n",
       "      <td>3.58</td>\n",
       "      <td>6.81</td>\n",
       "      <td>0.77</td>\n",
       "      <td>NaN</td>\n",
       "      <td>NaN</td>\n",
       "      <td>NaN</td>\n",
       "      <td>40.24</td>\n",
       "    </tr>\n",
       "    <tr>\n",
       "      <th>2</th>\n",
       "      <td>Mario Kart Wii</td>\n",
       "      <td>Wii</td>\n",
       "      <td>2008</td>\n",
       "      <td>Racing</td>\n",
       "      <td>15.68</td>\n",
       "      <td>12.76</td>\n",
       "      <td>3.79</td>\n",
       "      <td>3.29</td>\n",
       "      <td>82.0</td>\n",
       "      <td>8.3</td>\n",
       "      <td>E</td>\n",
       "      <td>35.52</td>\n",
       "    </tr>\n",
       "    <tr>\n",
       "      <th>3</th>\n",
       "      <td>Wii Sports Resort</td>\n",
       "      <td>Wii</td>\n",
       "      <td>2009</td>\n",
       "      <td>Sports</td>\n",
       "      <td>15.61</td>\n",
       "      <td>10.93</td>\n",
       "      <td>3.28</td>\n",
       "      <td>2.95</td>\n",
       "      <td>80.0</td>\n",
       "      <td>8.0</td>\n",
       "      <td>E</td>\n",
       "      <td>32.77</td>\n",
       "    </tr>\n",
       "    <tr>\n",
       "      <th>4</th>\n",
       "      <td>Pokemon Red/Pokemon Blue</td>\n",
       "      <td>GB</td>\n",
       "      <td>1996</td>\n",
       "      <td>Role-Playing</td>\n",
       "      <td>11.27</td>\n",
       "      <td>8.89</td>\n",
       "      <td>10.22</td>\n",
       "      <td>1.00</td>\n",
       "      <td>NaN</td>\n",
       "      <td>NaN</td>\n",
       "      <td>NaN</td>\n",
       "      <td>31.38</td>\n",
       "    </tr>\n",
       "    <tr>\n",
       "      <th>...</th>\n",
       "      <td>...</td>\n",
       "      <td>...</td>\n",
       "      <td>...</td>\n",
       "      <td>...</td>\n",
       "      <td>...</td>\n",
       "      <td>...</td>\n",
       "      <td>...</td>\n",
       "      <td>...</td>\n",
       "      <td>...</td>\n",
       "      <td>...</td>\n",
       "      <td>...</td>\n",
       "      <td>...</td>\n",
       "    </tr>\n",
       "    <tr>\n",
       "      <th>16710</th>\n",
       "      <td>Samurai Warriors: Sanada Maru</td>\n",
       "      <td>PS3</td>\n",
       "      <td>2016</td>\n",
       "      <td>Action</td>\n",
       "      <td>0.00</td>\n",
       "      <td>0.00</td>\n",
       "      <td>0.01</td>\n",
       "      <td>0.00</td>\n",
       "      <td>NaN</td>\n",
       "      <td>NaN</td>\n",
       "      <td>NaN</td>\n",
       "      <td>0.01</td>\n",
       "    </tr>\n",
       "    <tr>\n",
       "      <th>16711</th>\n",
       "      <td>LMA Manager 2007</td>\n",
       "      <td>X360</td>\n",
       "      <td>2006</td>\n",
       "      <td>Sports</td>\n",
       "      <td>0.00</td>\n",
       "      <td>0.01</td>\n",
       "      <td>0.00</td>\n",
       "      <td>0.00</td>\n",
       "      <td>NaN</td>\n",
       "      <td>NaN</td>\n",
       "      <td>NaN</td>\n",
       "      <td>0.01</td>\n",
       "    </tr>\n",
       "    <tr>\n",
       "      <th>16712</th>\n",
       "      <td>Haitaka no Psychedelica</td>\n",
       "      <td>PSV</td>\n",
       "      <td>2016</td>\n",
       "      <td>Adventure</td>\n",
       "      <td>0.00</td>\n",
       "      <td>0.00</td>\n",
       "      <td>0.01</td>\n",
       "      <td>0.00</td>\n",
       "      <td>NaN</td>\n",
       "      <td>NaN</td>\n",
       "      <td>NaN</td>\n",
       "      <td>0.01</td>\n",
       "    </tr>\n",
       "    <tr>\n",
       "      <th>16713</th>\n",
       "      <td>Spirits &amp; Spells</td>\n",
       "      <td>GBA</td>\n",
       "      <td>2003</td>\n",
       "      <td>Platform</td>\n",
       "      <td>0.01</td>\n",
       "      <td>0.00</td>\n",
       "      <td>0.00</td>\n",
       "      <td>0.00</td>\n",
       "      <td>NaN</td>\n",
       "      <td>NaN</td>\n",
       "      <td>NaN</td>\n",
       "      <td>0.01</td>\n",
       "    </tr>\n",
       "    <tr>\n",
       "      <th>16714</th>\n",
       "      <td>Winning Post 8 2016</td>\n",
       "      <td>PSV</td>\n",
       "      <td>2016</td>\n",
       "      <td>Simulation</td>\n",
       "      <td>0.00</td>\n",
       "      <td>0.00</td>\n",
       "      <td>0.01</td>\n",
       "      <td>0.00</td>\n",
       "      <td>NaN</td>\n",
       "      <td>NaN</td>\n",
       "      <td>NaN</td>\n",
       "      <td>0.01</td>\n",
       "    </tr>\n",
       "  </tbody>\n",
       "</table>\n",
       "<p>16715 rows × 12 columns</p>\n",
       "</div>"
      ],
      "text/plain": [
       "                                name platform  year_of_release         genre  \\\n",
       "0                         Wii Sports      Wii             2006        Sports   \n",
       "1                  Super Mario Bros.      NES             1985      Platform   \n",
       "2                     Mario Kart Wii      Wii             2008        Racing   \n",
       "3                  Wii Sports Resort      Wii             2009        Sports   \n",
       "4           Pokemon Red/Pokemon Blue       GB             1996  Role-Playing   \n",
       "...                              ...      ...              ...           ...   \n",
       "16710  Samurai Warriors: Sanada Maru      PS3             2016        Action   \n",
       "16711               LMA Manager 2007     X360             2006        Sports   \n",
       "16712        Haitaka no Psychedelica      PSV             2016     Adventure   \n",
       "16713               Spirits & Spells      GBA             2003      Platform   \n",
       "16714            Winning Post 8 2016      PSV             2016    Simulation   \n",
       "\n",
       "       na_sales  eu_sales  jp_sales  other_sales  critic_score  user_score  \\\n",
       "0         41.36     28.96      3.77         8.45          76.0         8.0   \n",
       "1         29.08      3.58      6.81         0.77           NaN         NaN   \n",
       "2         15.68     12.76      3.79         3.29          82.0         8.3   \n",
       "3         15.61     10.93      3.28         2.95          80.0         8.0   \n",
       "4         11.27      8.89     10.22         1.00           NaN         NaN   \n",
       "...         ...       ...       ...          ...           ...         ...   \n",
       "16710      0.00      0.00      0.01         0.00           NaN         NaN   \n",
       "16711      0.00      0.01      0.00         0.00           NaN         NaN   \n",
       "16712      0.00      0.00      0.01         0.00           NaN         NaN   \n",
       "16713      0.01      0.00      0.00         0.00           NaN         NaN   \n",
       "16714      0.00      0.00      0.01         0.00           NaN         NaN   \n",
       "\n",
       "      rating  total_sales  \n",
       "0          E        82.54  \n",
       "1        NaN        40.24  \n",
       "2          E        35.52  \n",
       "3          E        32.77  \n",
       "4        NaN        31.38  \n",
       "...      ...          ...  \n",
       "16710    NaN         0.01  \n",
       "16711    NaN         0.01  \n",
       "16712    NaN         0.01  \n",
       "16713    NaN         0.01  \n",
       "16714    NaN         0.01  \n",
       "\n",
       "[16715 rows x 12 columns]"
      ]
     },
     "execution_count": 10,
     "metadata": {},
     "output_type": "execute_result"
    }
   ],
   "source": [
    "# Cálculo de ventas totales (suma de ventas en todas las regiones).\n",
    "\n",
    "games['total_sales'] = games[['na_sales', 'eu_sales', 'jp_sales', 'other_sales']].sum(axis=1)\n",
    "\n",
    "games"
   ]
  },
  {
   "cell_type": "code",
   "execution_count": 11,
   "metadata": {},
   "outputs": [
    {
     "name": "stdout",
     "output_type": "stream",
     "text": [
      "<class 'pandas.core.frame.DataFrame'>\n",
      "RangeIndex: 16715 entries, 0 to 16714\n",
      "Data columns (total 12 columns):\n",
      " #   Column           Non-Null Count  Dtype  \n",
      "---  ------           --------------  -----  \n",
      " 0   name             16713 non-null  object \n",
      " 1   platform         16715 non-null  object \n",
      " 2   year_of_release  16446 non-null  Int64  \n",
      " 3   genre            16713 non-null  object \n",
      " 4   na_sales         16715 non-null  float64\n",
      " 5   eu_sales         16715 non-null  float64\n",
      " 6   jp_sales         16715 non-null  float64\n",
      " 7   other_sales      16715 non-null  float64\n",
      " 8   critic_score     8137 non-null   float64\n",
      " 9   user_score       7590 non-null   float64\n",
      " 10  rating           9949 non-null   object \n",
      " 11  total_sales      16715 non-null  float64\n",
      "dtypes: Int64(1), float64(7), object(4)\n",
      "memory usage: 1.5+ MB\n"
     ]
    }
   ],
   "source": [
    "games.info()"
   ]
  },
  {
   "cell_type": "markdown",
   "metadata": {},
   "source": [
    "# Paso 3."
   ]
  },
  {
   "cell_type": "markdown",
   "metadata": {},
   "source": [
    "## Análisis de datos."
   ]
  },
  {
   "cell_type": "markdown",
   "metadata": {},
   "source": [
    "### Cuántos juegos fueron lanzados en diferentes años. ¿Son significativos los datos de cada período?"
   ]
  },
  {
   "cell_type": "code",
   "execution_count": 12,
   "metadata": {
    "scrolled": false
   },
   "outputs": [
    {
     "name": "stdout",
     "output_type": "stream",
     "text": [
      "year_of_release\n",
      "1980       9\n",
      "1981      46\n",
      "1982      36\n",
      "1983      17\n",
      "1984      14\n",
      "1985      14\n",
      "1986      21\n",
      "1987      16\n",
      "1988      15\n",
      "1989      17\n",
      "1990      16\n",
      "1991      41\n",
      "1992      43\n",
      "1993      60\n",
      "1994     121\n",
      "1995     219\n",
      "1996     263\n",
      "1997     289\n",
      "1998     379\n",
      "1999     338\n",
      "2000     350\n",
      "2001     482\n",
      "2002     829\n",
      "2003     775\n",
      "2004     762\n",
      "2005     939\n",
      "2006    1006\n",
      "2007    1197\n",
      "2008    1427\n",
      "2009    1426\n",
      "2010    1255\n",
      "2011    1136\n",
      "2012     653\n",
      "2013     544\n",
      "2014     581\n",
      "2015     606\n",
      "2016     502\n",
      "Name: name, dtype: int64 \n",
      " \n",
      "\n"
     ]
    },
    {
     "data": {
      "text/plain": [
       "<AxesSubplot:title={'center':'Cantidad de juegos lanzados por año'}, xlabel='Año de lanzamiento', ylabel='Cantidad de juegos'>"
      ]
     },
     "execution_count": 12,
     "metadata": {},
     "output_type": "execute_result"
    },
    {
     "data": {
      "image/png": "[encoded data removed]",
      "text/plain": [
       "<Figure size 1000x600 with 1 Axes>"
      ]
     },
     "metadata": {},
     "output_type": "display_data"
    }
   ],
   "source": [
    "# Para poder sacar estos datos, primero hay que eliminar las filas con valores ausentes en year_of_release.\n",
    "games_clean = games.dropna(subset = ['year_of_release'])\n",
    "\n",
    "# Análisis de la cantidad de juegos lanzados por año.\n",
    "games_per_year = games_clean.groupby('year_of_release')['name'].count()\n",
    "\n",
    "print(games_per_year, '\\n \\n')\n",
    "\n",
    "games_per_year.plot(kind = 'bar', \n",
    "                   title = 'Cantidad de juegos lanzados por año',\n",
    "                   xlabel = 'Año de lanzamiento',\n",
    "                   ylabel = 'Cantidad de juegos',\n",
    "                   figsize = (10,6))"
   ]
  },
  {
   "cell_type": "markdown",
   "metadata": {},
   "source": [
    "Se puede concluir que los datos sobre los juegos lanzados empiezan a ser significativos desde el año 1994, por lo que se puede concluir que la era de los videojuegos comenzo desde ese año, teniendo como punto máximo los años 2008 y 2009."
   ]
  },
  {
   "cell_type": "markdown",
   "metadata": {},
   "source": [
    "### Observa cómo varían las ventas de una plataforma a otra. Elige las plataformas con las mayores ventas totales y construye una distribución basada en los datos de cada año. Busca las plataformas que solían ser populares pero que ahora no tienen ventas. ¿Cuánto tardan generalmente las nuevas plataformas en aparecer y las antiguas en desaparecer?"
   ]
  },
  {
   "cell_type": "code",
   "execution_count": 13,
   "metadata": {
    "scrolled": false
   },
   "outputs": [
    {
     "name": "stdout",
     "output_type": "stream",
     "text": [
      "year_of_release  1980  1981  1982  1983  1984  1985  1986  1987  1988  1989  \\\n",
      "platform                                                                      \n",
      "PS2               0.0   0.0   0.0   0.0   0.0  0.00   0.0   0.0   0.0   0.0   \n",
      "X360              0.0   0.0   0.0   0.0   0.0  0.00   0.0   0.0   0.0   0.0   \n",
      "PS3               0.0   0.0   0.0   0.0   0.0  0.00   0.0   0.0   0.0   0.0   \n",
      "Wii               0.0   0.0   0.0   0.0   0.0  0.00   0.0   0.0   0.0   0.0   \n",
      "DS                0.0   0.0   0.0   0.0   0.0  0.02   0.0   0.0   0.0   0.0   \n",
      "PS                0.0   0.0   0.0   0.0   0.0  0.00   0.0   0.0   0.0   0.0   \n",
      "PS4               0.0   0.0   0.0   0.0   0.0  0.00   0.0   0.0   0.0   0.0   \n",
      "GBA               0.0   0.0   0.0   0.0   0.0  0.00   0.0   0.0   0.0   0.0   \n",
      "PSP               0.0   0.0   0.0   0.0   0.0  0.00   0.0   0.0   0.0   0.0   \n",
      "3DS               0.0   0.0   0.0   0.0   0.0  0.00   0.0   0.0   0.0   0.0   \n",
      "\n",
      "year_of_release  ...    2007    2008    2009    2010    2011    2012    2013  \\\n",
      "platform         ...                                                           \n",
      "PS2              ...   75.99   53.90   26.40    5.64    0.45    0.00    0.00   \n",
      "X360             ...   95.41  135.26  120.29  170.03  143.84   99.74   88.58   \n",
      "PS3              ...   73.19  118.52  130.93  142.17  156.78  107.36  113.25   \n",
      "Wii              ...  152.77  171.32  206.97  127.95   59.65   21.71    8.59   \n",
      "DS               ...  146.94  145.31  119.54   85.02   26.18   11.01    1.54   \n",
      "PS               ...    0.00    0.00    0.00    0.00    0.00    0.00    0.00   \n",
      "PS4              ...    0.00    0.00    0.00    0.00    0.00    0.00   25.99   \n",
      "GBA              ...    3.40    0.00    0.00    0.00    0.00    0.00    0.00   \n",
      "PSP              ...   46.93   34.55   37.78   35.04   17.82    7.69    3.14   \n",
      "3DS              ...    0.00    0.00    0.00    0.00   63.20   51.36   56.57   \n",
      "\n",
      "year_of_release    2014    2015   2016  \n",
      "platform                                \n",
      "PS2                0.00    0.00   0.00  \n",
      "X360              34.74   11.96   1.52  \n",
      "PS3               47.76   16.82   3.60  \n",
      "Wii                3.75    1.14   0.18  \n",
      "DS                 0.00    0.00   0.00  \n",
      "PS                 0.00    0.00   0.00  \n",
      "PS4              100.00  118.90  69.25  \n",
      "GBA                0.00    0.00   0.00  \n",
      "PSP                0.24    0.12   0.00  \n",
      "3DS               43.76   27.78  15.14  \n",
      "\n",
      "[10 rows x 37 columns] \n",
      " \n",
      "\n"
     ]
    },
    {
     "data": {
      "image/png": "[encoded data removed]",
      "text/plain": [
       "<Figure size 1200x800 with 1 Axes>"
      ]
     },
     "metadata": {},
     "output_type": "display_data"
    }
   ],
   "source": [
    "# Ventas por plataforma a lo largo del tiempo.\n",
    "platform_sales = games_clean.groupby(['platform','year_of_release'])['total_sales'].sum().unstack().fillna(0)\n",
    "top_platform = platform_sales.sum(axis = 1).sort_values(ascending = False).head(10).index\n",
    "top_platform_sales = platform_sales.loc[top_platform]\n",
    "\n",
    "print(top_platform_sales, '\\n \\n')\n",
    "\n",
    "plt.figure(figsize=(12, 8))\n",
    "for platform in top_platform_sales.index:\n",
    "    plt.plot(top_platform_sales.columns, top_platform_sales.loc[platform], label = platform)\n",
    "\n",
    "plt.title('Ventas totales por plataforma a lo largo del tiempo')\n",
    "plt.xlabel('Año de lanzamiento')\n",
    "plt.ylabel('Ventas totales (millones)')\n",
    "plt.legend(title='Plataforma')\n",
    "plt.show()"
   ]
  },
  {
   "cell_type": "markdown",
   "metadata": {},
   "source": [
    "Como se puede observar en el gráfico, las plataformas populares tienen aproximadamente un periodo de 10 años de duración, por lo que se puede afirmar que ese es el tiempo en el que las plataformas surjen, llegan a su punto maximo de ventas y despues decaen en popularidad por la aparición de plataformas nuevas."
   ]
  },
  {
   "cell_type": "markdown",
   "metadata": {},
   "source": [
    "### Determina para qué período se deben tomar datos."
   ]
  },
  {
   "cell_type": "markdown",
   "metadata": {},
   "source": [
    "Como se puede observar en el gráfico del punto anterior, se puede empezar a tomar datos aproximadamente desde el año 1994, ya que desde ese periodo se puede decir que empezó la era de los videojuegos. Sin embargo, para poder realizar proyectar un análisis hacia el futuro con respecto a la venta de videojuegos, tomando en cuenta que se quiere tomar una estrategia para el año 2017, se puede tomar como muestra los juegos que se han vendido aproximadamente desde el 2014."
   ]
  },
  {
   "cell_type": "markdown",
   "metadata": {},
   "source": [
    "### ¿Qué plataformas son líderes en ventas? ¿Cuáles crecen y cuáles se reducen? Elige varias plataformas potencialmente rentables."
   ]
  },
  {
   "cell_type": "code",
   "execution_count": 14,
   "metadata": {},
   "outputs": [
    {
     "data": {
      "image/png": "[encoded data removed]",
      "text/plain": [
       "<Figure size 1000x600 with 1 Axes>"
      ]
     },
     "metadata": {},
     "output_type": "display_data"
    }
   ],
   "source": [
    "# Análisis de plataformas populares en crecimiento/disminución.\n",
    "recent_years = games_clean[games_clean['year_of_release'] >= 2014]\n",
    "platform_sales_recent = recent_years.groupby('platform')['total_sales'].sum().sort_values(ascending=False)\n",
    "\n",
    "plt.figure(figsize=(10, 6))\n",
    "platform_sales_recent.plot(kind='bar',\n",
    "                          title = 'Ventas totales de plataformas desde 2014',\n",
    "                          xlabel = 'Plataforma',\n",
    "                          ylabel = 'Ventas totales (millones)')\n",
    "plt.show()"
   ]
  },
  {
   "cell_type": "markdown",
   "metadata": {},
   "source": [
    "Como se puede observar en el grafico **Ventas totales de plataformas desde 2014**, las plataformas que fueron saliendo a partir de esos años lograron tener ventas un poco mas altas de 200 millones, mientras que las plataformas que van envejeciendo presentan una disminución total en sus ventas como en el caso de Wii."
   ]
  },
  {
   "cell_type": "markdown",
   "metadata": {},
   "source": [
    "### Crea un diagrama de caja para las ventas globales de todos los juegos, desglosados por plataforma. ¿Son significativas las diferencias en las ventas? ¿Qué sucede con las ventas promedio en varias plataformas?"
   ]
  },
  {
   "cell_type": "code",
   "execution_count": 15,
   "metadata": {},
   "outputs": [
    {
     "data": {
      "image/png": "[encoded data removed]",
      "text/plain": [
       "<Figure size 1200x800 with 1 Axes>"
      ]
     },
     "metadata": {},
     "output_type": "display_data"
    }
   ],
   "source": [
    "plt.figure(figsize=(12, 8))\n",
    "sns.boxplot(x='platform', y='total_sales', data = games_clean)\n",
    "plt.title('Diagrama de caja de ventas globales por plataforma')\n",
    "plt.xlabel('Plataforma')\n",
    "plt.ylabel('Ventas totales (millones)')\n",
    "plt.yscale('log')  # Escala logarítmica para una mejor visualización.\n",
    "plt.show()"
   ]
  },
  {
   "cell_type": "markdown",
   "metadata": {},
   "source": [
    "Mediante la visualización de los diagramas de caja globales de venta por cada plataforma, se puede afirmar que existe un promedio en el que la mayoría de plataformas tienen una media cerca a un millon de ventas, sin embargo, existen varias plataformas con datos dispersos que superan este número de ventas."
   ]
  },
  {
   "cell_type": "markdown",
   "metadata": {},
   "source": [
    "### Mira cómo las reseñas de usuarios y profesionales afectan las ventas de una plataforma popular (tu elección). Crea un gráfico de dispersión y calcula la correlación entre las reseñas y las ventas. "
   ]
  },
  {
   "cell_type": "code",
   "execution_count": 16,
   "metadata": {},
   "outputs": [
    {
     "data": {
      "image/png": "[encoded data removed]",
      "text/plain": [
       "<Figure size 1000x600 with 1 Axes>"
      ]
     },
     "metadata": {},
     "output_type": "display_data"
    }
   ],
   "source": [
    "# Seleccionamos una plataforma popular, por ejemplo, 'PS4'.\n",
    "\n",
    "ps4_games = games_clean[games_clean['platform'] == 'PS4']\n",
    "\n",
    "# Gráfico de dispersión para reseñas de críticos y ventas.\n",
    "plt.figure(figsize=(10, 6))\n",
    "sns.scatterplot(x = 'critic_score', y = 'total_sales', data = ps4_games)\n",
    "plt.title('Relación entre críticas de usuarios y ventas en PS4')\n",
    "plt.xlabel('Puntuación de críticos')\n",
    "plt.ylabel('Ventas totales (millones)')\n",
    "plt.show()"
   ]
  },
  {
   "cell_type": "code",
   "execution_count": 17,
   "metadata": {},
   "outputs": [
    {
     "name": "stdout",
     "output_type": "stream",
     "text": [
      "Correlación entre la puntuación de críticos y las ventas en PS4: 0.41 \n",
      " \n",
      "\n"
     ]
    }
   ],
   "source": [
    "# Cálculo de la correlación entre puntuaciones de críticos y ventas\n",
    "\n",
    "# Eliminar filas con valores nulos en 'critic_score' y 'total_sales'\n",
    "ps4_games_clean = ps4_games.dropna(subset = ['critic_score', 'total_sales'])\n",
    "\n",
    "critic_correlation = ps4_games_clean['critic_score'].corr(ps4_games_clean['total_sales'])\n",
    "print(f\"Correlación entre la puntuación de críticos y las ventas en PS4: {critic_correlation:.2f}\", \"\\n \\n\")\n"
   ]
  },
  {
   "cell_type": "code",
   "execution_count": 18,
   "metadata": {},
   "outputs": [
    {
     "data": {
      "image/png": "[encoded data removed]",
      "text/plain": [
       "<Figure size 1000x600 with 1 Axes>"
      ]
     },
     "metadata": {},
     "output_type": "display_data"
    }
   ],
   "source": [
    "# Gráfico de dispersión para reseñas de usuarios y ventas\n",
    "\n",
    "plt.figure(figsize=(10, 6))\n",
    "sns.scatterplot(x = 'user_score', y = 'total_sales', data = ps4_games)\n",
    "plt.title('Relación entre críticas de usuarios y ventas en PS4')\n",
    "plt.xlabel('Puntuación de usuarios')\n",
    "plt.ylabel('Ventas totales (millones)')\n",
    "plt.show()"
   ]
  },
  {
   "cell_type": "code",
   "execution_count": 19,
   "metadata": {},
   "outputs": [
    {
     "name": "stdout",
     "output_type": "stream",
     "text": [
      "Correlación entre la puntuación de usuarios y las ventas en PS4: -0.03\n"
     ]
    }
   ],
   "source": [
    "# Cálculo de la correlación entre puntuación de usuarios y ventas\n",
    "\n",
    "# Eliminar filas con valores nulos en 'user_score' y 'total_sales'\n",
    "ps4_games_clean_user = ps4_games.dropna(subset = ['user_score', 'total_sales'])\n",
    "\n",
    "user_correlation = ps4_games_clean_user['user_score'].corr(ps4_games_clean_user['total_sales'])\n",
    "print(f\"Correlación entre la puntuación de usuarios y las ventas en PS4: {user_correlation:.2f}\")"
   ]
  },
  {
   "cell_type": "markdown",
   "metadata": {},
   "source": [
    "En base al análisis realizado, se puede llegar a la conclusión de que si tiene una relación directa una buena puntuación de juegos por parte de los críticos con el número de ventas que se realizan.\n",
    "\n",
    "Por otra parte, la puntuación emitida por los usuarios, no determinan en la más mínima medida que un juego se venda o no."
   ]
  },
  {
   "cell_type": "markdown",
   "metadata": {},
   "source": [
    "### Teniendo en cuenta tus conclusiones compara las ventas de los mismos juegos en otras plataformas."
   ]
  },
  {
   "cell_type": "code",
   "execution_count": 20,
   "metadata": {},
   "outputs": [
    {
     "data": {
      "image/png": "[encoded data removed]",
      "text/plain": [
       "<Figure size 1000x600 with 1 Axes>"
      ]
     },
     "metadata": {},
     "output_type": "display_data"
    }
   ],
   "source": [
    "# Comparación de ventas de los mismos juegos en otras plataformas\n",
    "same_games_diff_platforms = recent_years[recent_years['name'].isin(ps4_games['name'])]\n",
    "platform_sales_comparison = same_games_diff_platforms.groupby('platform')['total_sales'].mean().sort_values(ascending = False)\n",
    "\n",
    "plt.figure(figsize=(10, 6))\n",
    "platform_sales_comparison.plot(kind = 'bar',\n",
    "                              title = 'Ventas promedio de juegos en diferentes plataformas (comunes con PS4)',\n",
    "                              xlabel = 'Plataforma',\n",
    "                              ylabel = 'Ventas promedio (millones)')\n",
    "plt.show()"
   ]
  },
  {
   "cell_type": "markdown",
   "metadata": {},
   "source": [
    "En base a la comparación realizada, se puede determinar que la plataforma PS4, no es la más popular cuando se trata de juegos comunes entre consola, siendo la segunda después de Wii."
   ]
  },
  {
   "cell_type": "markdown",
   "metadata": {},
   "source": [
    "### Echa un vistazo a la distribución general de los juegos por género. ¿Qué se puede decir de los géneros más rentables? ¿Puedes generalizar acerca de los géneros con ventas altas y bajas?"
   ]
  },
  {
   "cell_type": "code",
   "execution_count": 21,
   "metadata": {},
   "outputs": [
    {
     "data": {
      "image/png": "[encoded data removed]",
      "text/plain": [
       "<Figure size 1000x600 with 1 Axes>"
      ]
     },
     "metadata": {},
     "output_type": "display_data"
    }
   ],
   "source": [
    "# Distribución de juegos por género y análisis de géneros más rentables\n",
    "\n",
    "genre_sales = recent_years.groupby('genre')['total_sales'].sum().sort_values(ascending = False)\n",
    "\n",
    "plt.figure(figsize=(10, 6))\n",
    "genre_sales.plot(kind='bar',\n",
    "                title = 'Ventas totales por género',\n",
    "                xlabel = 'Género',\n",
    "                ylabel = 'Ventas totales (millones)')\n",
    "plt.show()\n"
   ]
  },
  {
   "cell_type": "code",
   "execution_count": 22,
   "metadata": {},
   "outputs": [
    {
     "name": "stdout",
     "output_type": "stream",
     "text": [
      "Géneros más rentables:\n",
      "genre\n",
      "Action          199.36\n",
      "Shooter         170.94\n",
      "Sports          109.48\n",
      "Role-Playing    101.44\n",
      "Misc             37.55\n",
      "Name: total_sales, dtype: float64 \n",
      "\n",
      "\n",
      "Géneros menos rentables:\n",
      "genre\n",
      "Platform      18.09\n",
      "Adventure     17.55\n",
      "Simulation    13.13\n",
      "Strategy       3.96\n",
      "Puzzle         2.21\n",
      "Name: total_sales, dtype: float64\n"
     ]
    }
   ],
   "source": [
    "# Análisis de géneros más y menos rentables\n",
    "\n",
    "print(\"Géneros más rentables:\")\n",
    "print(genre_sales.head(), '\\n\\n')\n",
    "\n",
    "print(\"Géneros menos rentables:\")\n",
    "print(genre_sales.tail())"
   ]
  },
  {
   "cell_type": "markdown",
   "metadata": {},
   "source": [
    "Según el análisis realizado, se puede decir que existe una gran diferencia entre la rentabilidad por variación de género, ya que se tiene por ejemplo, el género que mas se vende con un aproximado de 147 millones de ventas en la categoría de **Action** contra el que género menos vendido con un aproximado de 1 millones de ventas en la categoría de **puzzle**, siendo la diferencia casi por 146 millones de ventas."
   ]
  },
  {
   "cell_type": "markdown",
   "metadata": {},
   "source": [
    "# Paso 4."
   ]
  },
  {
   "cell_type": "markdown",
   "metadata": {},
   "source": [
    "## Crea un perfil de usuario para cada región."
   ]
  },
  {
   "cell_type": "code",
   "execution_count": 23,
   "metadata": {},
   "outputs": [
    {
     "data": {
      "text/html": [
       "<div>\n",
       "<style scoped>\n",
       "    .dataframe tbody tr th:only-of-type {\n",
       "        vertical-align: middle;\n",
       "    }\n",
       "\n",
       "    .dataframe tbody tr th {\n",
       "        vertical-align: top;\n",
       "    }\n",
       "\n",
       "    .dataframe thead th {\n",
       "        text-align: right;\n",
       "    }\n",
       "</style>\n",
       "<table border=\"1\" class=\"dataframe\">\n",
       "  <thead>\n",
       "    <tr style=\"text-align: right;\">\n",
       "      <th></th>\n",
       "      <th>name</th>\n",
       "      <th>platform</th>\n",
       "      <th>year_of_release</th>\n",
       "      <th>genre</th>\n",
       "      <th>na_sales</th>\n",
       "      <th>eu_sales</th>\n",
       "      <th>jp_sales</th>\n",
       "      <th>other_sales</th>\n",
       "      <th>critic_score</th>\n",
       "      <th>user_score</th>\n",
       "      <th>rating</th>\n",
       "      <th>total_sales</th>\n",
       "    </tr>\n",
       "  </thead>\n",
       "  <tbody>\n",
       "    <tr>\n",
       "      <th>31</th>\n",
       "      <td>Call of Duty: Black Ops 3</td>\n",
       "      <td>PS4</td>\n",
       "      <td>2015</td>\n",
       "      <td>Shooter</td>\n",
       "      <td>6.03</td>\n",
       "      <td>5.86</td>\n",
       "      <td>0.36</td>\n",
       "      <td>2.38</td>\n",
       "      <td>NaN</td>\n",
       "      <td>NaN</td>\n",
       "      <td>NaN</td>\n",
       "      <td>14.63</td>\n",
       "    </tr>\n",
       "    <tr>\n",
       "      <th>42</th>\n",
       "      <td>Grand Theft Auto V</td>\n",
       "      <td>PS4</td>\n",
       "      <td>2014</td>\n",
       "      <td>Action</td>\n",
       "      <td>3.96</td>\n",
       "      <td>6.31</td>\n",
       "      <td>0.38</td>\n",
       "      <td>1.97</td>\n",
       "      <td>97.0</td>\n",
       "      <td>8.3</td>\n",
       "      <td>M</td>\n",
       "      <td>12.62</td>\n",
       "    </tr>\n",
       "    <tr>\n",
       "      <th>47</th>\n",
       "      <td>Pokemon Omega Ruby/Pokemon Alpha Sapphire</td>\n",
       "      <td>3DS</td>\n",
       "      <td>2014</td>\n",
       "      <td>Role-Playing</td>\n",
       "      <td>4.35</td>\n",
       "      <td>3.49</td>\n",
       "      <td>3.10</td>\n",
       "      <td>0.74</td>\n",
       "      <td>NaN</td>\n",
       "      <td>NaN</td>\n",
       "      <td>NaN</td>\n",
       "      <td>11.68</td>\n",
       "    </tr>\n",
       "    <tr>\n",
       "      <th>77</th>\n",
       "      <td>FIFA 16</td>\n",
       "      <td>PS4</td>\n",
       "      <td>2015</td>\n",
       "      <td>Sports</td>\n",
       "      <td>1.12</td>\n",
       "      <td>6.12</td>\n",
       "      <td>0.06</td>\n",
       "      <td>1.28</td>\n",
       "      <td>82.0</td>\n",
       "      <td>4.3</td>\n",
       "      <td>E</td>\n",
       "      <td>8.58</td>\n",
       "    </tr>\n",
       "    <tr>\n",
       "      <th>87</th>\n",
       "      <td>Star Wars Battlefront (2015)</td>\n",
       "      <td>PS4</td>\n",
       "      <td>2015</td>\n",
       "      <td>Shooter</td>\n",
       "      <td>2.99</td>\n",
       "      <td>3.49</td>\n",
       "      <td>0.22</td>\n",
       "      <td>1.28</td>\n",
       "      <td>NaN</td>\n",
       "      <td>NaN</td>\n",
       "      <td>NaN</td>\n",
       "      <td>7.98</td>\n",
       "    </tr>\n",
       "    <tr>\n",
       "      <th>...</th>\n",
       "      <td>...</td>\n",
       "      <td>...</td>\n",
       "      <td>...</td>\n",
       "      <td>...</td>\n",
       "      <td>...</td>\n",
       "      <td>...</td>\n",
       "      <td>...</td>\n",
       "      <td>...</td>\n",
       "      <td>...</td>\n",
       "      <td>...</td>\n",
       "      <td>...</td>\n",
       "      <td>...</td>\n",
       "    </tr>\n",
       "    <tr>\n",
       "      <th>16703</th>\n",
       "      <td>Strawberry Nauts</td>\n",
       "      <td>PSV</td>\n",
       "      <td>2016</td>\n",
       "      <td>Adventure</td>\n",
       "      <td>0.00</td>\n",
       "      <td>0.00</td>\n",
       "      <td>0.01</td>\n",
       "      <td>0.00</td>\n",
       "      <td>NaN</td>\n",
       "      <td>NaN</td>\n",
       "      <td>NaN</td>\n",
       "      <td>0.01</td>\n",
       "    </tr>\n",
       "    <tr>\n",
       "      <th>16707</th>\n",
       "      <td>Aiyoku no Eustia</td>\n",
       "      <td>PSV</td>\n",
       "      <td>2014</td>\n",
       "      <td>Misc</td>\n",
       "      <td>0.00</td>\n",
       "      <td>0.00</td>\n",
       "      <td>0.01</td>\n",
       "      <td>0.00</td>\n",
       "      <td>NaN</td>\n",
       "      <td>NaN</td>\n",
       "      <td>NaN</td>\n",
       "      <td>0.01</td>\n",
       "    </tr>\n",
       "    <tr>\n",
       "      <th>16710</th>\n",
       "      <td>Samurai Warriors: Sanada Maru</td>\n",
       "      <td>PS3</td>\n",
       "      <td>2016</td>\n",
       "      <td>Action</td>\n",
       "      <td>0.00</td>\n",
       "      <td>0.00</td>\n",
       "      <td>0.01</td>\n",
       "      <td>0.00</td>\n",
       "      <td>NaN</td>\n",
       "      <td>NaN</td>\n",
       "      <td>NaN</td>\n",
       "      <td>0.01</td>\n",
       "    </tr>\n",
       "    <tr>\n",
       "      <th>16712</th>\n",
       "      <td>Haitaka no Psychedelica</td>\n",
       "      <td>PSV</td>\n",
       "      <td>2016</td>\n",
       "      <td>Adventure</td>\n",
       "      <td>0.00</td>\n",
       "      <td>0.00</td>\n",
       "      <td>0.01</td>\n",
       "      <td>0.00</td>\n",
       "      <td>NaN</td>\n",
       "      <td>NaN</td>\n",
       "      <td>NaN</td>\n",
       "      <td>0.01</td>\n",
       "    </tr>\n",
       "    <tr>\n",
       "      <th>16714</th>\n",
       "      <td>Winning Post 8 2016</td>\n",
       "      <td>PSV</td>\n",
       "      <td>2016</td>\n",
       "      <td>Simulation</td>\n",
       "      <td>0.00</td>\n",
       "      <td>0.00</td>\n",
       "      <td>0.01</td>\n",
       "      <td>0.00</td>\n",
       "      <td>NaN</td>\n",
       "      <td>NaN</td>\n",
       "      <td>NaN</td>\n",
       "      <td>0.01</td>\n",
       "    </tr>\n",
       "  </tbody>\n",
       "</table>\n",
       "<p>1689 rows × 12 columns</p>\n",
       "</div>"
      ],
      "text/plain": [
       "                                            name platform  year_of_release  \\\n",
       "31                     Call of Duty: Black Ops 3      PS4             2015   \n",
       "42                            Grand Theft Auto V      PS4             2014   \n",
       "47     Pokemon Omega Ruby/Pokemon Alpha Sapphire      3DS             2014   \n",
       "77                                       FIFA 16      PS4             2015   \n",
       "87                  Star Wars Battlefront (2015)      PS4             2015   \n",
       "...                                          ...      ...              ...   \n",
       "16703                           Strawberry Nauts      PSV             2016   \n",
       "16707                           Aiyoku no Eustia      PSV             2014   \n",
       "16710              Samurai Warriors: Sanada Maru      PS3             2016   \n",
       "16712                    Haitaka no Psychedelica      PSV             2016   \n",
       "16714                        Winning Post 8 2016      PSV             2016   \n",
       "\n",
       "              genre  na_sales  eu_sales  jp_sales  other_sales  critic_score  \\\n",
       "31          Shooter      6.03      5.86      0.36         2.38           NaN   \n",
       "42           Action      3.96      6.31      0.38         1.97          97.0   \n",
       "47     Role-Playing      4.35      3.49      3.10         0.74           NaN   \n",
       "77           Sports      1.12      6.12      0.06         1.28          82.0   \n",
       "87          Shooter      2.99      3.49      0.22         1.28           NaN   \n",
       "...             ...       ...       ...       ...          ...           ...   \n",
       "16703     Adventure      0.00      0.00      0.01         0.00           NaN   \n",
       "16707          Misc      0.00      0.00      0.01         0.00           NaN   \n",
       "16710        Action      0.00      0.00      0.01         0.00           NaN   \n",
       "16712     Adventure      0.00      0.00      0.01         0.00           NaN   \n",
       "16714    Simulation      0.00      0.00      0.01         0.00           NaN   \n",
       "\n",
       "       user_score rating  total_sales  \n",
       "31            NaN    NaN        14.63  \n",
       "42            8.3      M        12.62  \n",
       "47            NaN    NaN        11.68  \n",
       "77            4.3      E         8.58  \n",
       "87            NaN    NaN         7.98  \n",
       "...           ...    ...          ...  \n",
       "16703         NaN    NaN         0.01  \n",
       "16707         NaN    NaN         0.01  \n",
       "16710         NaN    NaN         0.01  \n",
       "16712         NaN    NaN         0.01  \n",
       "16714         NaN    NaN         0.01  \n",
       "\n",
       "[1689 rows x 12 columns]"
      ]
     },
     "execution_count": 23,
     "metadata": {},
     "output_type": "execute_result"
    }
   ],
   "source": [
    "recent_years"
   ]
  },
  {
   "cell_type": "markdown",
   "metadata": {},
   "source": [
    "### Por cada región determina las cinco plataformas principales. Describe las variaciones en sus cuotas de mercado de una región a otra."
   ]
  },
  {
   "cell_type": "code",
   "execution_count": 24,
   "metadata": {},
   "outputs": [
    {
     "name": "stdout",
     "output_type": "stream",
     "text": [
      "Top 5 plataformas en NA:\n",
      " platform\n",
      "PS4     75.30\n",
      "XOne    66.86\n",
      "X360    24.48\n",
      "PS3     16.93\n",
      "WiiU    15.49\n",
      "Name: na_sales, dtype: float64\n",
      "\n",
      "Top 5 plataformas en EU:\n",
      " platform\n",
      "PS4     102.35\n",
      "XOne     38.13\n",
      "PS3      19.69\n",
      "PC       14.77\n",
      "X360     13.35\n",
      "Name: eu_sales, dtype: float64\n",
      "\n",
      "Top 5 plataformas en JP:\n",
      " platform\n",
      "3DS     11.00\n",
      "PS4      8.77\n",
      "WiiU     5.78\n",
      "PSV      5.18\n",
      "PS3      5.12\n",
      "Name: jp_sales, dtype: float64\n"
     ]
    },
    {
     "data": {
      "image/png": "[encoded data removed]",
      "text/plain": [
       "<Figure size 1000x600 with 1 Axes>"
      ]
     },
     "metadata": {},
     "output_type": "display_data"
    }
   ],
   "source": [
    "# Primero se debe asegurar que las columnas de ventas por cada región no tengan valores ausentes.\n",
    "games[['na_sales', 'eu_sales', 'jp_sales']] = games[['na_sales', 'eu_sales', 'jp_sales']].fillna(0)\n",
    "\n",
    "# Eliminar filas con valores nulos en 'year_of_release' y 'rating'\n",
    "games_clean_recent_years = recent_years.dropna(subset=['year_of_release', 'rating'])\n",
    "\n",
    "\n",
    "# Análisis de las 5 plataformas principales por cada región\n",
    "def top_five_platforms_per_region(region_sales):\n",
    "    top_platforms = games_clean_recent_years.groupby('platform')[region_sales].sum().sort_values(ascending = False).head(5)\n",
    "    return top_platforms\n",
    "\n",
    "na_top_platforms = top_five_platforms_per_region('na_sales')\n",
    "eu_top_platforms = top_five_platforms_per_region('eu_sales')\n",
    "jp_top_platforms = top_five_platforms_per_region('jp_sales')\n",
    "\n",
    "print(\"Top 5 plataformas en NA:\\n\", na_top_platforms)\n",
    "print(\"\\nTop 5 plataformas en EU:\\n\", eu_top_platforms)\n",
    "print(\"\\nTop 5 plataformas en JP:\\n\", jp_top_platforms)\n",
    "\n",
    "# Gráfico de las cinco plataformas principales por región\n",
    "plt.figure(figsize=(10, 6))\n",
    "na_top_platforms.plot(kind = 'bar',\n",
    "                      color='skyblue',\n",
    "                      label = 'NA',\n",
    "                      title = 'Top 5 plataformas por región (NA, EU, JP)',\n",
    "                      xlabel = 'Plataformas',\n",
    "                      ylabel = 'Ventas totales (millones)')\n",
    "\n",
    "eu_top_platforms.plot(kind = 'bar',\n",
    "                      color='salmon',\n",
    "                      label = 'EU',\n",
    "                      alpha = 0.7)\n",
    "\n",
    "jp_top_platforms.plot(kind = 'bar',\n",
    "                      color='lightgreen',\n",
    "                      label='JP',\n",
    "                      alpha = 0.7)\n",
    "\n",
    "plt.legend()\n",
    "plt.show()"
   ]
  },
  {
   "cell_type": "markdown",
   "metadata": {},
   "source": [
    "Mediante el análisis se puede ver que la plataforma más vendida es PS4 en Amércia del Norte y en Europa, mientras que la plataforma 3DS es la más vendida en Japón, siendo las plataformas PS3, WiiU y PSV igualmente comunes pero en diferente orden en cada región."
   ]
  },
  {
   "cell_type": "markdown",
   "metadata": {},
   "source": [
    "### Por cada región determina los cinco géneros principales. Explica la diferencia."
   ]
  },
  {
   "cell_type": "code",
   "execution_count": 25,
   "metadata": {},
   "outputs": [
    {
     "name": "stdout",
     "output_type": "stream",
     "text": [
      "Top 5 géneros en NA:\n",
      " genre\n",
      "Shooter         60.21\n",
      "Action          58.79\n",
      "Sports          46.03\n",
      "Role-Playing    19.38\n",
      "Misc             8.76\n",
      "Name: na_sales, dtype: float64\n",
      "\n",
      "Top 5 géneros en EU:\n",
      " genre\n",
      "Action          61.44\n",
      "Shooter         49.43\n",
      "Sports          45.31\n",
      "Role-Playing    18.07\n",
      "Racing          11.60\n",
      "Name: eu_sales, dtype: float64\n",
      "\n",
      "Top 5 géneros en JP:\n",
      " genre\n",
      "Role-Playing    11.05\n",
      "Action           9.45\n",
      "Shooter          4.17\n",
      "Platform         2.55\n",
      "Simulation       1.89\n",
      "Name: jp_sales, dtype: float64\n"
     ]
    },
    {
     "data": {
      "image/png": "[encoded data removed]",
      "text/plain": [
       "<Figure size 1000x600 with 1 Axes>"
      ]
     },
     "metadata": {},
     "output_type": "display_data"
    }
   ],
   "source": [
    "#Análisis de los cinco géneros principales por región\n",
    "def top_five_genres_per_region(region_sales):\n",
    "    top_genres = games_clean_recent_years.groupby('genre')[region_sales].sum().sort_values(ascending = False).head(5)\n",
    "    return top_genres\n",
    "\n",
    "na_top_genres = top_five_genres_per_region('na_sales')\n",
    "eu_top_genres = top_five_genres_per_region('eu_sales')\n",
    "jp_top_genres = top_five_genres_per_region('jp_sales')\n",
    "\n",
    "print(\"Top 5 géneros en NA:\\n\", na_top_genres)\n",
    "print(\"\\nTop 5 géneros en EU:\\n\", eu_top_genres)\n",
    "print(\"\\nTop 5 géneros en JP:\\n\", jp_top_genres)\n",
    "\n",
    "# Gráfico de los cinco géneros principales por región\n",
    "plt.figure(figsize=(10, 6))\n",
    "na_top_genres.plot(kind = 'bar',\n",
    "                  color = 'skyblue',\n",
    "                  label = 'NA',\n",
    "                  title = 'Top 5 géneros por región (NA, EU, JP)',\n",
    "                  xlabel = 'Géneros',\n",
    "                  ylabel = 'Ventas totales (millones)')\n",
    "\n",
    "eu_top_genres.plot(kind = 'bar',\n",
    "                  color = 'salmon',\n",
    "                  label = 'EU',\n",
    "                  alpha = 0.7)\n",
    "\n",
    "jp_top_genres.plot(kind = 'bar',\n",
    "                  color = 'lightgreen',\n",
    "                  label = 'JP',\n",
    "                  alpha = 0.7)\n",
    "\n",
    "plt.legend()\n",
    "plt.show()"
   ]
  },
  {
   "cell_type": "markdown",
   "metadata": {},
   "source": [
    "Mediante el análisis se puede ver que los juegos del genero de acción dominan las ventas en Europa y América del Norte, mientras que los juegos de rol son mas populares en Japón."
   ]
  },
  {
   "cell_type": "markdown",
   "metadata": {},
   "source": [
    "### Por cada región determina si las clasificaciones de ESRB afectan a las ventas en regiones individuales."
   ]
  },
  {
   "cell_type": "code",
   "execution_count": 26,
   "metadata": {},
   "outputs": [
    {
     "name": "stdout",
     "output_type": "stream",
     "text": [
      "Ventas por clasificación ESRB en NA:\n",
      " rating\n",
      "M       96.42\n",
      "E       50.74\n",
      "T       38.95\n",
      "E10+    33.23\n",
      "Name: na_sales, dtype: float64\n",
      "\n",
      "Ventas por clasificación ESRB en EU:\n",
      " rating\n",
      "M       93.44\n",
      "E       58.06\n",
      "T       34.07\n",
      "E10+    26.16\n",
      "Name: eu_sales, dtype: float64\n",
      "\n",
      "Ventas por clasificación ESRB en JP:\n",
      " rating\n",
      "T       14.78\n",
      "E        8.94\n",
      "M        8.01\n",
      "E10+     4.46\n",
      "Name: jp_sales, dtype: float64\n"
     ]
    },
    {
     "data": {
      "image/png": "[encoded data removed]",
      "text/plain": [
       "<Figure size 1000x600 with 1 Axes>"
      ]
     },
     "metadata": {},
     "output_type": "display_data"
    }
   ],
   "source": [
    "# Análisis del efecto de las clasificaciones ESRB en las ventas por región\n",
    "def esrb_sales_by_region(region_sales):\n",
    "    esrb_sales = games_clean_recent_years.groupby('rating')[region_sales].sum().sort_values(ascending = False)\n",
    "    return esrb_sales\n",
    "\n",
    "na_esrb_sales = esrb_sales_by_region('na_sales')\n",
    "eu_esrb_sales = esrb_sales_by_region('eu_sales')\n",
    "jp_esrb_sales = esrb_sales_by_region('jp_sales')\n",
    "\n",
    "print(\"Ventas por clasificación ESRB en NA:\\n\", na_esrb_sales)\n",
    "print(\"\\nVentas por clasificación ESRB en EU:\\n\", eu_esrb_sales)\n",
    "print(\"\\nVentas por clasificación ESRB en JP:\\n\", jp_esrb_sales)\n",
    "\n",
    "# Gráfico del efecto de las clasificaciones ESRB en las ventas por región\n",
    "plt.figure(figsize=(10, 6))\n",
    "na_esrb_sales.plot(kind = 'bar',\n",
    "                  color = 'skyblue', \n",
    "                  label = 'NA',\n",
    "                  title = 'Ventas por clasificación ESRB por región (NA, EU, JP)',\n",
    "                  xlabel = 'Clasificación ESRB',\n",
    "                  ylabel = 'Ventas totales (millones)')\n",
    "\n",
    "eu_esrb_sales.plot(kind = 'bar',\n",
    "                  color = 'salmon',\n",
    "                  label = 'EU',\n",
    "                  alpha = 0.7)\n",
    "\n",
    "jp_esrb_sales.plot(kind = 'bar',\n",
    "                  color = 'lightgreen',\n",
    "                  label = 'JP',\n",
    "                  alpha = 0.7)\n",
    "\n",
    "plt.legend()\n",
    "plt.show()"
   ]
  },
  {
   "cell_type": "markdown",
   "metadata": {},
   "source": [
    "Como se puede observar dentro del análisis, los juegos con clasificación M (público maduro) son los más vendidos en Amércia del Norte y Europa, mientras que los juegos mas vendidos en Japón son los de clasificación T (adolecentes)."
   ]
  },
  {
   "cell_type": "markdown",
   "metadata": {},
   "source": [
    "# Paso 5."
   ]
  },
  {
   "cell_type": "markdown",
   "metadata": {},
   "source": [
    "## Prueba de hipótesis."
   ]
  },
  {
   "cell_type": "markdown",
   "metadata": {},
   "source": [
    "### Las calificaciones promedio de los usuarios para las plataformas Xbox One y PC son las mismas."
   ]
  },
  {
   "cell_type": "code",
   "execution_count": 31,
   "metadata": {},
   "outputs": [
    {
     "name": "stdout",
     "output_type": "stream",
     "text": [
      "Carácterísticas referentes a la plataforma Xbox One: \n",
      " count    165.000000\n",
      "mean       6.594545\n",
      "std        1.375139\n",
      "min        1.600000\n",
      "25%        5.800000\n",
      "50%        6.800000\n",
      "75%        7.600000\n",
      "max        9.200000\n",
      "Name: user_score, dtype: float64 \n",
      "\n",
      " Carácterísticas referentes a la plataforma PC: \n",
      " count    122.000000\n",
      "mean       6.298361\n",
      "std        1.703278\n",
      "min        1.400000\n",
      "25%        5.325000\n",
      "50%        6.800000\n",
      "75%        7.600000\n",
      "max        9.300000\n",
      "Name: user_score, dtype: float64\n"
     ]
    }
   ],
   "source": [
    "# Filtrar las calificaciones de usuarios por plataforma.\n",
    "xbox_one_scores = recent_years[recent_years['platform'] == 'XOne']['user_score'].dropna()\n",
    "pc_scores = recent_years[recent_years['platform'] == 'PC']['user_score'].dropna()\n",
    "\n",
    "# Mostrar características descriptivas acerca de ambas plataformas\n",
    "print('Carácterísticas referentes a la plataforma Xbox One: \\n', xbox_one_scores.describe(),\n",
    "      '\\n\\n', 'Carácterísticas referentes a la plataforma PC: \\n', pc_scores.describe())\n"
   ]
  },
  {
   "cell_type": "code",
   "execution_count": 39,
   "metadata": {},
   "outputs": [
    {
     "name": "stdout",
     "output_type": "stream",
     "text": [
      "Prueba de Levene para homogeneidad de varianzas: p-value = 0.0149\n",
      "Prueba t de Welch entre Xbox One y PC: p-value = 0.1160\n"
     ]
    }
   ],
   "source": [
    "# Comprobamos homogeneidad de varianza con la prueba de Levene\n",
    "levene_test = st.levene(xbox_one_scores, pc_scores)\n",
    "print(f\"Prueba de Levene para homogeneidad de varianzas: p-value = {levene_test.pvalue:.4f}\")\n",
    "\n",
    "if levene_test.pvalue > 0.05:\n",
    "        # Prueba t de Student para muestras independientes\n",
    "        t_stat, p_value = st.ttest_ind(xbox_one_scores, pc_scores)\n",
    "        print(f\"Prueba t de Student entre Xbox One y PC: p-value={p_value:.4f}\")\n",
    "else:\n",
    "    # Prueba t de Welch si no hay homogeneidad de varianza\n",
    "    t_stat, p_value = st.ttest_ind(xbox_one_scores, pc_scores, equal_var=False)\n",
    "    print(f\"Prueba t de Welch entre Xbox One y PC: p-value = {p_value:.4f}\")"
   ]
  },
  {
   "cell_type": "code",
   "execution_count": 38,
   "metadata": {},
   "outputs": [
    {
     "name": "stdout",
     "output_type": "stream",
     "text": [
      "Valor p resultante: 0.11601398086668832\n",
      "No rechazamos la hipótesis nula.\n"
     ]
    }
   ],
   "source": [
    "# Establecer el nivel de significancia comúnmente utilizado\n",
    "alpha = 0.05\n",
    "        \n",
    "# Realizar la prueba t de dos muestras\n",
    "results = st.ttest_ind(xbox_one_scores, pc_scores, equal_var = False)       \n",
    "        \n",
    "# Imprimir valor p resultante\n",
    "print('Valor p resultante:', results.pvalue)\n",
    "\n",
    "# Comarar el valor p con el umbral\n",
    "if(results.pvalue < alpha):\n",
    "    print('Rechazamos la hipótesis nula.')\n",
    "else:\n",
    "    print('No rechazamos la hipótesis nula.')"
   ]
  },
  {
   "cell_type": "markdown",
   "metadata": {},
   "source": [
    "### Las calificaciones promedio de los usuarios para los géneros de Acción y Deportes son diferentes."
   ]
  },
  {
   "cell_type": "code",
   "execution_count": 29,
   "metadata": {},
   "outputs": [
    {
     "name": "stdout",
     "output_type": "stream",
     "text": [
      "count    1796.000000\n",
      "mean        7.058129\n",
      "std         1.423901\n",
      "min         0.300000\n",
      "25%         6.300000\n",
      "50%         7.400000\n",
      "75%         8.100000\n",
      "max         9.500000\n",
      "Name: user_score, dtype: float64 \n",
      "\n",
      " count    1081.000000\n",
      "mean        6.951434\n",
      "std         1.619585\n",
      "min         0.200000\n",
      "25%         6.100000\n",
      "50%         7.400000\n",
      "75%         8.100000\n",
      "max         9.500000\n",
      "Name: user_score, dtype: float64\n"
     ]
    }
   ],
   "source": [
    "# Filtrar las calificaciones de usuarios por género.\n",
    "action_scores = recent_years[recent_years['genre'] == 'Action']['user_score'].dropna()\n",
    "sports_scores = recent_years[recent_years['genre'] == 'Sports']['user_score'].dropna()\n",
    "\n",
    "# Mostrar características descriptivas acerca de ambos géneros.\n",
    "print(action_scores.describe(), '\\n\\n', sports_scores.describe())\n"
   ]
  },
  {
   "cell_type": "code",
   "execution_count": 41,
   "metadata": {},
   "outputs": [
    {
     "name": "stdout",
     "output_type": "stream",
     "text": [
      "Prueba de Levene para homogeneidad de varianzas: p-value = 0.0001\n",
      "Prueba t de Welch entre Acción y Deportes: p-value = 0.0737\n"
     ]
    }
   ],
   "source": [
    "# Comprobamos homogeneidad de varianza con la prueba de Levene\n",
    "levene_test = st.levene(action_scores, sports_scores)\n",
    "print(f\"Prueba de Levene para homogeneidad de varianzas: p-value = {levene_test.pvalue:.4f}\")\n",
    "    \n",
    "if levene_test.pvalue > 0.05:\n",
    "    # Prueba t de Student para muestras independientes\n",
    "    t_stat, p_value = st.ttest_ind(action_scores, sports_scores)\n",
    "    print(f\"Prueba t de Student entre Acción y Deportes: p-value = {p_value:.4f}\")\n",
    "else:\n",
    "    # Prueba t de Welch si no hay homogeneidad de varianza\n",
    "    t_stat, p_value = st.ttest_ind(action_scores, sports_scores, equal_var=False)\n",
    "    print(f\"Prueba t de Welch entre Acción y Deportes: p-value = {p_value:.4f}\")"
   ]
  },
  {
   "cell_type": "code",
   "execution_count": 30,
   "metadata": {},
   "outputs": [
    {
     "name": "stdout",
     "output_type": "stream",
     "text": [
      "Valor p resultante: 0.07370217419278526\n",
      "No rechazamos la hipótesis nula.\n"
     ]
    }
   ],
   "source": [
    "# Establecer el nivel de significancia comúnmente utilizado\n",
    "alpha = 0.05\n",
    "\n",
    "# Realizar la prueba t de dos muestras\n",
    "results = st.ttest_ind(action_scores, sports_scores, equal_var = False)\n",
    "\n",
    "# Imprimir valor p resultante\n",
    "print('Valor p resultante:', results.pvalue)\n",
    "\n",
    "# Comarar el valor p con el umbral\n",
    "if(results.pvalue < alpha):\n",
    "    print('Rechazamos la hipótesis nula.')\n",
    "else:\n",
    "    print('No rechazamos la hipótesis nula.')"
   ]
  },
  {
   "cell_type": "markdown",
   "metadata": {},
   "source": [
    "# Paso 6."
   ]
  },
  {
   "cell_type": "markdown",
   "metadata": {},
   "source": [
    "## Conclusión"
   ]
  },
  {
   "cell_type": "markdown",
   "metadata": {},
   "source": [
    "Al realizar las pruebas de hipótesis sobre las calificaciones promedio de los usuarios en plataformas y  géneros de videojuegos, se puede extraer las siguientes conclusiones:\n",
    "\n",
    "1. Para las calificaciones promedio en las plataformas Xbox One y PC, después de validar las varianzas mediante el método Levene, ya que se rechaza la hipótesis nula, significa que existe una diferencia significativa en las calificaciones promedio, lo que puede indicar que los usuarios tienen percepciones distintas sobre los juegos en esas plataformas.\n",
    "\n",
    "2. Para las calificaciones promedio en los géneros de Acción y Deportes, después de validar las varianzas mediante el método Levene, ya que no se rechaza la hipótesis nula, significa que las calificaciones promedio entre ambos géneros son similares, lo que sugiere que los usuarios califican con puntuaciones parecidas sin importar su género, lo que puede ser un referente de calidad entre ambos géneros."
   ]
  }
 ],
 "metadata": {
  "ExecuteTimeLog": [
   {
    "duration": 4,
    "start_time": "2024-09-24T02:45:59.365Z"
   },
   {
    "duration": 2190,
    "start_time": "2024-09-25T00:13:11.534Z"
   },
   {
    "duration": 5,
    "start_time": "2024-09-25T00:14:33.605Z"
   },
   {
    "duration": 44,
    "start_time": "2024-09-25T00:14:43.964Z"
   },
   {
    "duration": 31,
    "start_time": "2024-09-25T00:15:02.451Z"
   },
   {
    "duration": 4,
    "start_time": "2024-09-25T00:59:51.428Z"
   },
   {
    "duration": 17,
    "start_time": "2024-09-25T02:09:31.072Z"
   },
   {
    "duration": 158,
    "start_time": "2024-09-26T02:08:19.077Z"
   },
   {
    "duration": 2125,
    "start_time": "2024-09-26T02:08:26.770Z"
   },
   {
    "duration": 47,
    "start_time": "2024-09-26T02:08:28.897Z"
   },
   {
    "duration": 3,
    "start_time": "2024-09-26T02:08:28.948Z"
   },
   {
    "duration": 17,
    "start_time": "2024-09-26T02:08:28.953Z"
   },
   {
    "duration": 11,
    "start_time": "2024-09-26T02:08:28.972Z"
   },
   {
    "duration": 96,
    "start_time": "2024-09-26T03:33:27.573Z"
   },
   {
    "duration": 13,
    "start_time": "2024-09-26T03:33:32.814Z"
   },
   {
    "duration": 11,
    "start_time": "2024-09-26T03:33:41.337Z"
   },
   {
    "duration": 2137,
    "start_time": "2024-09-27T00:10:44.920Z"
   },
   {
    "duration": 58,
    "start_time": "2024-09-27T00:10:47.060Z"
   },
   {
    "duration": 3,
    "start_time": "2024-09-27T00:10:47.120Z"
   },
   {
    "duration": 16,
    "start_time": "2024-09-27T00:10:47.124Z"
   },
   {
    "duration": 12,
    "start_time": "2024-09-27T00:10:47.142Z"
   },
   {
    "duration": 19,
    "start_time": "2024-09-27T00:10:47.155Z"
   },
   {
    "duration": 34,
    "start_time": "2024-09-27T00:11:06.083Z"
   },
   {
    "duration": 92,
    "start_time": "2024-09-27T00:12:30.260Z"
   },
   {
    "duration": 5,
    "start_time": "2024-09-27T00:12:50.984Z"
   },
   {
    "duration": 4,
    "start_time": "2024-09-27T00:13:01.752Z"
   },
   {
    "duration": 135,
    "start_time": "2024-09-27T00:13:33.549Z"
   },
   {
    "duration": 410,
    "start_time": "2024-09-27T00:13:51.016Z"
   },
   {
    "duration": 77,
    "start_time": "2024-09-27T00:13:51.427Z"
   },
   {
    "duration": 4,
    "start_time": "2024-09-27T00:13:51.506Z"
   },
   {
    "duration": 15,
    "start_time": "2024-09-27T00:13:51.513Z"
   },
   {
    "duration": 11,
    "start_time": "2024-09-27T00:13:51.529Z"
   },
   {
    "duration": 38,
    "start_time": "2024-09-27T00:13:51.542Z"
   },
   {
    "duration": 4,
    "start_time": "2024-09-27T00:16:36.658Z"
   },
   {
    "duration": 9,
    "start_time": "2024-09-27T00:21:27.035Z"
   },
   {
    "duration": 13,
    "start_time": "2024-09-27T00:21:41.415Z"
   },
   {
    "duration": 2114,
    "start_time": "2024-09-27T20:14:33.989Z"
   },
   {
    "duration": 51,
    "start_time": "2024-09-27T20:14:36.108Z"
   },
   {
    "duration": 4,
    "start_time": "2024-09-27T20:14:36.160Z"
   },
   {
    "duration": 17,
    "start_time": "2024-09-27T20:14:36.166Z"
   },
   {
    "duration": 11,
    "start_time": "2024-09-27T20:14:36.185Z"
   },
   {
    "duration": 20,
    "start_time": "2024-09-27T20:14:36.197Z"
   },
   {
    "duration": 8,
    "start_time": "2024-09-27T20:14:36.219Z"
   },
   {
    "duration": 10,
    "start_time": "2024-09-27T20:14:36.228Z"
   },
   {
    "duration": 31,
    "start_time": "2024-09-27T20:21:59.367Z"
   },
   {
    "duration": 35,
    "start_time": "2024-09-27T20:22:14.840Z"
   },
   {
    "duration": 11,
    "start_time": "2024-09-27T20:22:25.071Z"
   },
   {
    "duration": 5,
    "start_time": "2024-09-27T20:23:40.220Z"
   },
   {
    "duration": 12,
    "start_time": "2024-09-27T20:23:52.424Z"
   },
   {
    "duration": 7,
    "start_time": "2024-09-27T20:52:05.318Z"
   },
   {
    "duration": 19,
    "start_time": "2024-09-27T20:53:23.369Z"
   },
   {
    "duration": 18,
    "start_time": "2024-09-27T20:53:50.754Z"
   },
   {
    "duration": 18,
    "start_time": "2024-09-27T20:53:56.738Z"
   },
   {
    "duration": 18,
    "start_time": "2024-09-27T20:54:10.255Z"
   },
   {
    "duration": 2,
    "start_time": "2024-09-27T21:40:44.513Z"
   },
   {
    "duration": 160,
    "start_time": "2024-09-28T02:27:49.577Z"
   },
   {
    "duration": 2110,
    "start_time": "2024-09-28T02:27:58.587Z"
   },
   {
    "duration": 56,
    "start_time": "2024-09-28T02:28:00.699Z"
   },
   {
    "duration": 12,
    "start_time": "2024-09-28T02:28:00.757Z"
   },
   {
    "duration": 5,
    "start_time": "2024-09-28T02:28:00.771Z"
   },
   {
    "duration": 15,
    "start_time": "2024-09-28T02:28:00.778Z"
   },
   {
    "duration": 23,
    "start_time": "2024-09-28T02:28:00.795Z"
   },
   {
    "duration": 12,
    "start_time": "2024-09-28T02:28:00.820Z"
   },
   {
    "duration": 8,
    "start_time": "2024-09-28T02:28:00.834Z"
   },
   {
    "duration": 9,
    "start_time": "2024-09-28T02:28:00.844Z"
   },
   {
    "duration": 19,
    "start_time": "2024-09-28T02:28:00.855Z"
   },
   {
    "duration": 5,
    "start_time": "2024-09-28T02:28:00.910Z"
   },
   {
    "duration": 15,
    "start_time": "2024-09-28T02:41:26.977Z"
   },
   {
    "duration": 8,
    "start_time": "2024-09-28T02:41:49.575Z"
   },
   {
    "duration": 244,
    "start_time": "2024-09-28T02:47:21.805Z"
   },
   {
    "duration": 304,
    "start_time": "2024-09-28T02:48:04.291Z"
   },
   {
    "duration": 2121,
    "start_time": "2024-09-28T14:32:21.590Z"
   },
   {
    "duration": 49,
    "start_time": "2024-09-28T14:32:23.713Z"
   },
   {
    "duration": 11,
    "start_time": "2024-09-28T14:32:23.764Z"
   },
   {
    "duration": 6,
    "start_time": "2024-09-28T14:32:23.778Z"
   },
   {
    "duration": 14,
    "start_time": "2024-09-28T14:32:23.785Z"
   },
   {
    "duration": 32,
    "start_time": "2024-09-28T14:32:23.801Z"
   },
   {
    "duration": 11,
    "start_time": "2024-09-28T14:32:23.834Z"
   },
   {
    "duration": 9,
    "start_time": "2024-09-28T14:32:23.847Z"
   },
   {
    "duration": 10,
    "start_time": "2024-09-28T14:32:23.858Z"
   },
   {
    "duration": 18,
    "start_time": "2024-09-28T14:32:23.871Z"
   },
   {
    "duration": 303,
    "start_time": "2024-09-28T14:32:23.890Z"
   },
   {
    "duration": 3,
    "start_time": "2024-09-28T14:32:24.195Z"
   },
   {
    "duration": 5,
    "start_time": "2024-09-28T14:34:15.405Z"
   },
   {
    "duration": 2080,
    "start_time": "2024-09-28T21:29:55.329Z"
   },
   {
    "duration": 54,
    "start_time": "2024-09-28T21:29:57.411Z"
   },
   {
    "duration": 11,
    "start_time": "2024-09-28T21:29:57.467Z"
   },
   {
    "duration": 5,
    "start_time": "2024-09-28T21:29:57.480Z"
   },
   {
    "duration": 14,
    "start_time": "2024-09-28T21:29:57.487Z"
   },
   {
    "duration": 29,
    "start_time": "2024-09-28T21:29:57.503Z"
   },
   {
    "duration": 15,
    "start_time": "2024-09-28T21:29:57.534Z"
   },
   {
    "duration": 10,
    "start_time": "2024-09-28T21:29:57.551Z"
   },
   {
    "duration": 13,
    "start_time": "2024-09-28T21:29:57.563Z"
   },
   {
    "duration": 17,
    "start_time": "2024-09-28T21:29:57.579Z"
   },
   {
    "duration": 289,
    "start_time": "2024-09-28T21:29:57.597Z"
   },
   {
    "duration": 6,
    "start_time": "2024-09-28T21:29:57.888Z"
   },
   {
    "duration": 2166,
    "start_time": "2024-09-28T22:27:17.409Z"
   },
   {
    "duration": 49,
    "start_time": "2024-09-28T22:27:19.577Z"
   },
   {
    "duration": 12,
    "start_time": "2024-09-28T22:27:19.628Z"
   },
   {
    "duration": 4,
    "start_time": "2024-09-28T22:27:19.642Z"
   },
   {
    "duration": 16,
    "start_time": "2024-09-28T22:27:19.647Z"
   },
   {
    "duration": 25,
    "start_time": "2024-09-28T22:27:19.665Z"
   },
   {
    "duration": 12,
    "start_time": "2024-09-28T22:27:19.692Z"
   },
   {
    "duration": 9,
    "start_time": "2024-09-28T22:27:19.705Z"
   },
   {
    "duration": 10,
    "start_time": "2024-09-28T22:27:19.716Z"
   },
   {
    "duration": 19,
    "start_time": "2024-09-28T22:27:19.729Z"
   },
   {
    "duration": 282,
    "start_time": "2024-09-28T22:27:19.786Z"
   },
   {
    "duration": 6,
    "start_time": "2024-09-28T22:27:20.070Z"
   },
   {
    "duration": 8,
    "start_time": "2024-09-28T22:47:35.340Z"
   },
   {
    "duration": 115,
    "start_time": "2024-09-28T22:49:21.336Z"
   },
   {
    "duration": 8,
    "start_time": "2024-09-28T22:50:07.788Z"
   },
   {
    "duration": 7,
    "start_time": "2024-09-28T22:51:50.259Z"
   },
   {
    "duration": 16,
    "start_time": "2024-09-28T22:52:04.741Z"
   },
   {
    "duration": 7,
    "start_time": "2024-09-29T00:12:19.248Z"
   },
   {
    "duration": 455,
    "start_time": "2024-09-29T00:12:35.707Z"
   },
   {
    "duration": 72,
    "start_time": "2024-09-29T00:12:36.164Z"
   },
   {
    "duration": 11,
    "start_time": "2024-09-29T00:12:36.239Z"
   },
   {
    "duration": 5,
    "start_time": "2024-09-29T00:12:36.251Z"
   },
   {
    "duration": 36,
    "start_time": "2024-09-29T00:12:36.259Z"
   },
   {
    "duration": 11,
    "start_time": "2024-09-29T00:12:36.296Z"
   },
   {
    "duration": 10,
    "start_time": "2024-09-29T00:12:36.309Z"
   },
   {
    "duration": 8,
    "start_time": "2024-09-29T00:12:36.321Z"
   },
   {
    "duration": 10,
    "start_time": "2024-09-29T00:12:36.331Z"
   },
   {
    "duration": 45,
    "start_time": "2024-09-29T00:12:36.343Z"
   },
   {
    "duration": 270,
    "start_time": "2024-09-29T00:12:36.390Z"
   },
   {
    "duration": 5,
    "start_time": "2024-09-29T00:12:36.662Z"
   },
   {
    "duration": 214,
    "start_time": "2024-09-29T00:13:31.689Z"
   },
   {
    "duration": 235,
    "start_time": "2024-09-29T00:13:59.836Z"
   },
   {
    "duration": 2142,
    "start_time": "2024-10-01T02:28:22.878Z"
   },
   {
    "duration": 52,
    "start_time": "2024-10-01T02:28:25.022Z"
   },
   {
    "duration": 11,
    "start_time": "2024-10-01T02:28:25.076Z"
   },
   {
    "duration": 4,
    "start_time": "2024-10-01T02:28:25.089Z"
   },
   {
    "duration": 23,
    "start_time": "2024-10-01T02:28:25.096Z"
   },
   {
    "duration": 9,
    "start_time": "2024-10-01T02:28:25.121Z"
   },
   {
    "duration": 10,
    "start_time": "2024-10-01T02:28:25.132Z"
   },
   {
    "duration": 9,
    "start_time": "2024-10-01T02:28:25.144Z"
   },
   {
    "duration": 9,
    "start_time": "2024-10-01T02:28:25.154Z"
   },
   {
    "duration": 47,
    "start_time": "2024-10-01T02:28:25.164Z"
   },
   {
    "duration": 321,
    "start_time": "2024-10-01T02:28:25.213Z"
   },
   {
    "duration": 260,
    "start_time": "2024-10-01T02:28:25.538Z"
   },
   {
    "duration": 2311,
    "start_time": "2024-10-01T23:29:20.305Z"
   },
   {
    "duration": 60,
    "start_time": "2024-10-01T23:29:22.618Z"
   },
   {
    "duration": 15,
    "start_time": "2024-10-01T23:29:22.681Z"
   },
   {
    "duration": 6,
    "start_time": "2024-10-01T23:29:22.698Z"
   },
   {
    "duration": 23,
    "start_time": "2024-10-01T23:29:22.707Z"
   },
   {
    "duration": 14,
    "start_time": "2024-10-01T23:29:22.732Z"
   },
   {
    "duration": 14,
    "start_time": "2024-10-01T23:29:22.748Z"
   },
   {
    "duration": 11,
    "start_time": "2024-10-01T23:29:22.763Z"
   },
   {
    "duration": 13,
    "start_time": "2024-10-01T23:29:22.775Z"
   },
   {
    "duration": 21,
    "start_time": "2024-10-01T23:29:22.811Z"
   },
   {
    "duration": 306,
    "start_time": "2024-10-01T23:29:22.833Z"
   },
   {
    "duration": 312,
    "start_time": "2024-10-01T23:29:23.140Z"
   },
   {
    "duration": 148,
    "start_time": "2024-10-01T23:49:52.355Z"
   },
   {
    "duration": 2202,
    "start_time": "2024-10-02T01:42:19.243Z"
   },
   {
    "duration": 80,
    "start_time": "2024-10-02T01:42:21.447Z"
   },
   {
    "duration": 11,
    "start_time": "2024-10-02T01:42:21.529Z"
   },
   {
    "duration": 5,
    "start_time": "2024-10-02T01:42:21.542Z"
   },
   {
    "duration": 15,
    "start_time": "2024-10-02T01:42:21.549Z"
   },
   {
    "duration": 12,
    "start_time": "2024-10-02T01:42:21.566Z"
   },
   {
    "duration": 12,
    "start_time": "2024-10-02T01:42:21.608Z"
   },
   {
    "duration": 9,
    "start_time": "2024-10-02T01:42:21.621Z"
   },
   {
    "duration": 11,
    "start_time": "2024-10-02T01:42:21.631Z"
   },
   {
    "duration": 17,
    "start_time": "2024-10-02T01:42:21.645Z"
   },
   {
    "duration": 298,
    "start_time": "2024-10-02T01:42:21.664Z"
   },
   {
    "duration": 275,
    "start_time": "2024-10-02T01:42:21.963Z"
   },
   {
    "duration": 191,
    "start_time": "2024-10-02T01:42:22.240Z"
   },
   {
    "duration": 2147,
    "start_time": "2024-10-02T03:28:03.044Z"
   },
   {
    "duration": 57,
    "start_time": "2024-10-02T03:28:05.193Z"
   },
   {
    "duration": 12,
    "start_time": "2024-10-02T03:28:05.251Z"
   },
   {
    "duration": 4,
    "start_time": "2024-10-02T03:28:05.265Z"
   },
   {
    "duration": 15,
    "start_time": "2024-10-02T03:28:05.270Z"
   },
   {
    "duration": 10,
    "start_time": "2024-10-02T03:28:05.286Z"
   },
   {
    "duration": 37,
    "start_time": "2024-10-02T03:28:05.297Z"
   },
   {
    "duration": 9,
    "start_time": "2024-10-02T03:28:05.335Z"
   },
   {
    "duration": 10,
    "start_time": "2024-10-02T03:28:05.346Z"
   },
   {
    "duration": 18,
    "start_time": "2024-10-02T03:28:05.359Z"
   },
   {
    "duration": 291,
    "start_time": "2024-10-02T03:28:05.379Z"
   },
   {
    "duration": 257,
    "start_time": "2024-10-02T03:28:05.672Z"
   },
   {
    "duration": 177,
    "start_time": "2024-10-02T03:28:05.931Z"
   },
   {
    "duration": 2107,
    "start_time": "2024-10-03T01:24:54.937Z"
   },
   {
    "duration": 53,
    "start_time": "2024-10-03T01:24:57.047Z"
   },
   {
    "duration": 12,
    "start_time": "2024-10-03T01:24:57.101Z"
   },
   {
    "duration": 4,
    "start_time": "2024-10-03T01:24:57.115Z"
   },
   {
    "duration": 15,
    "start_time": "2024-10-03T01:24:57.122Z"
   },
   {
    "duration": 10,
    "start_time": "2024-10-03T01:24:57.139Z"
   },
   {
    "duration": 11,
    "start_time": "2024-10-03T01:24:57.150Z"
   },
   {
    "duration": 45,
    "start_time": "2024-10-03T01:24:57.163Z"
   },
   {
    "duration": 10,
    "start_time": "2024-10-03T01:24:57.209Z"
   },
   {
    "duration": 17,
    "start_time": "2024-10-03T01:24:57.221Z"
   },
   {
    "duration": 275,
    "start_time": "2024-10-03T01:24:57.240Z"
   },
   {
    "duration": 256,
    "start_time": "2024-10-03T01:24:57.517Z"
   },
   {
    "duration": 179,
    "start_time": "2024-10-03T01:24:57.775Z"
   },
   {
    "duration": 183,
    "start_time": "2024-10-03T01:25:37.707Z"
   },
   {
    "duration": 834,
    "start_time": "2024-10-03T01:26:12.827Z"
   },
   {
    "duration": 43,
    "start_time": "2024-10-03T01:26:13.664Z"
   },
   {
    "duration": 11,
    "start_time": "2024-10-03T01:26:13.709Z"
   },
   {
    "duration": 4,
    "start_time": "2024-10-03T01:26:13.723Z"
   },
   {
    "duration": 14,
    "start_time": "2024-10-03T01:26:13.730Z"
   },
   {
    "duration": 10,
    "start_time": "2024-10-03T01:26:13.745Z"
   },
   {
    "duration": 11,
    "start_time": "2024-10-03T01:26:13.756Z"
   },
   {
    "duration": 41,
    "start_time": "2024-10-03T01:26:13.768Z"
   },
   {
    "duration": 11,
    "start_time": "2024-10-03T01:26:13.811Z"
   },
   {
    "duration": 18,
    "start_time": "2024-10-03T01:26:13.823Z"
   },
   {
    "duration": 282,
    "start_time": "2024-10-03T01:26:13.843Z"
   },
   {
    "duration": 319,
    "start_time": "2024-10-03T01:26:14.127Z"
   },
   {
    "duration": 143,
    "start_time": "2024-10-03T01:26:14.448Z"
   },
   {
    "duration": 703,
    "start_time": "2024-10-03T01:26:14.594Z"
   },
   {
    "duration": 4,
    "start_time": "2024-10-03T01:32:27.235Z"
   },
   {
    "duration": 793,
    "start_time": "2024-10-03T01:39:16.306Z"
   },
   {
    "duration": 38,
    "start_time": "2024-10-03T01:39:17.102Z"
   },
   {
    "duration": 13,
    "start_time": "2024-10-03T01:39:17.141Z"
   },
   {
    "duration": 5,
    "start_time": "2024-10-03T01:39:17.156Z"
   },
   {
    "duration": 15,
    "start_time": "2024-10-03T01:39:17.162Z"
   },
   {
    "duration": 39,
    "start_time": "2024-10-03T01:39:17.179Z"
   },
   {
    "duration": 15,
    "start_time": "2024-10-03T01:39:17.220Z"
   },
   {
    "duration": 9,
    "start_time": "2024-10-03T01:39:17.237Z"
   },
   {
    "duration": 12,
    "start_time": "2024-10-03T01:39:17.248Z"
   },
   {
    "duration": 48,
    "start_time": "2024-10-03T01:39:17.263Z"
   },
   {
    "duration": 294,
    "start_time": "2024-10-03T01:39:17.313Z"
   },
   {
    "duration": 304,
    "start_time": "2024-10-03T01:39:17.610Z"
   },
   {
    "duration": 170,
    "start_time": "2024-10-03T01:39:17.916Z"
   },
   {
    "duration": 729,
    "start_time": "2024-10-03T01:39:18.089Z"
   },
   {
    "duration": 151,
    "start_time": "2024-10-03T01:39:18.820Z"
   },
   {
    "duration": 666,
    "start_time": "2024-10-03T01:40:56.688Z"
   },
   {
    "duration": 2498,
    "start_time": "2024-10-04T00:11:28.903Z"
   },
   {
    "duration": 55,
    "start_time": "2024-10-04T00:11:31.404Z"
   },
   {
    "duration": 11,
    "start_time": "2024-10-04T00:11:31.460Z"
   },
   {
    "duration": 4,
    "start_time": "2024-10-04T00:11:31.473Z"
   },
   {
    "duration": 14,
    "start_time": "2024-10-04T00:11:31.479Z"
   },
   {
    "duration": 17,
    "start_time": "2024-10-04T00:11:31.495Z"
   },
   {
    "duration": 11,
    "start_time": "2024-10-04T00:11:31.514Z"
   },
   {
    "duration": 8,
    "start_time": "2024-10-04T00:11:31.527Z"
   },
   {
    "duration": 10,
    "start_time": "2024-10-04T00:11:31.536Z"
   },
   {
    "duration": 17,
    "start_time": "2024-10-04T00:11:31.549Z"
   },
   {
    "duration": 300,
    "start_time": "2024-10-04T00:11:31.567Z"
   },
   {
    "duration": 277,
    "start_time": "2024-10-04T00:11:31.868Z"
   },
   {
    "duration": 146,
    "start_time": "2024-10-04T00:11:32.147Z"
   },
   {
    "duration": 791,
    "start_time": "2024-10-04T00:11:32.295Z"
   },
   {
    "duration": 156,
    "start_time": "2024-10-04T00:11:33.088Z"
   },
   {
    "duration": 621,
    "start_time": "2024-10-04T00:11:33.246Z"
   },
   {
    "duration": 10,
    "start_time": "2024-10-04T00:17:17.738Z"
   },
   {
    "duration": 172,
    "start_time": "2024-10-06T02:53:19.767Z"
   },
   {
    "duration": 2512,
    "start_time": "2024-10-06T02:53:28.843Z"
   },
   {
    "duration": 69,
    "start_time": "2024-10-06T02:53:31.358Z"
   },
   {
    "duration": 10,
    "start_time": "2024-10-06T02:53:31.429Z"
   },
   {
    "duration": 4,
    "start_time": "2024-10-06T02:53:31.442Z"
   },
   {
    "duration": 15,
    "start_time": "2024-10-06T02:53:31.448Z"
   },
   {
    "duration": 10,
    "start_time": "2024-10-06T02:53:31.465Z"
   },
   {
    "duration": 10,
    "start_time": "2024-10-06T02:53:31.476Z"
   },
   {
    "duration": 40,
    "start_time": "2024-10-06T02:53:31.488Z"
   },
   {
    "duration": 9,
    "start_time": "2024-10-06T02:53:31.530Z"
   },
   {
    "duration": 17,
    "start_time": "2024-10-06T02:53:31.542Z"
   },
   {
    "duration": 9,
    "start_time": "2024-10-06T02:53:31.561Z"
   },
   {
    "duration": 285,
    "start_time": "2024-10-06T02:53:31.571Z"
   },
   {
    "duration": 251,
    "start_time": "2024-10-06T02:53:31.858Z"
   },
   {
    "duration": 144,
    "start_time": "2024-10-06T02:53:32.111Z"
   },
   {
    "duration": 680,
    "start_time": "2024-10-06T02:53:32.256Z"
   },
   {
    "duration": 152,
    "start_time": "2024-10-06T02:53:32.938Z"
   },
   {
    "duration": 601,
    "start_time": "2024-10-06T02:53:33.093Z"
   },
   {
    "duration": 232,
    "start_time": "2024-10-06T02:55:53.575Z"
   },
   {
    "duration": 144,
    "start_time": "2024-10-06T02:56:08.881Z"
   },
   {
    "duration": 623,
    "start_time": "2024-10-06T02:56:38.846Z"
   },
   {
    "duration": 570,
    "start_time": "2024-10-06T02:57:37.136Z"
   },
   {
    "duration": 549,
    "start_time": "2024-10-06T02:57:48.855Z"
   },
   {
    "duration": 140,
    "start_time": "2024-10-06T02:58:07.540Z"
   },
   {
    "duration": 64,
    "start_time": "2024-10-06T02:58:11.699Z"
   },
   {
    "duration": 22,
    "start_time": "2024-10-06T03:03:18.208Z"
   },
   {
    "duration": 779,
    "start_time": "2024-10-06T03:03:25.850Z"
   },
   {
    "duration": 37,
    "start_time": "2024-10-06T03:03:26.632Z"
   },
   {
    "duration": 11,
    "start_time": "2024-10-06T03:03:26.671Z"
   },
   {
    "duration": 4,
    "start_time": "2024-10-06T03:03:26.684Z"
   },
   {
    "duration": 35,
    "start_time": "2024-10-06T03:03:26.690Z"
   },
   {
    "duration": 11,
    "start_time": "2024-10-06T03:03:26.726Z"
   },
   {
    "duration": 10,
    "start_time": "2024-10-06T03:03:26.738Z"
   },
   {
    "duration": 8,
    "start_time": "2024-10-06T03:03:26.750Z"
   },
   {
    "duration": 9,
    "start_time": "2024-10-06T03:03:26.759Z"
   },
   {
    "duration": 17,
    "start_time": "2024-10-06T03:03:26.771Z"
   },
   {
    "duration": 43,
    "start_time": "2024-10-06T03:03:26.790Z"
   },
   {
    "duration": 262,
    "start_time": "2024-10-06T03:03:26.834Z"
   },
   {
    "duration": 299,
    "start_time": "2024-10-06T03:03:27.098Z"
   },
   {
    "duration": 157,
    "start_time": "2024-10-06T03:03:27.399Z"
   },
   {
    "duration": 628,
    "start_time": "2024-10-06T03:03:27.557Z"
   },
   {
    "duration": 148,
    "start_time": "2024-10-06T03:03:28.187Z"
   },
   {
    "duration": 599,
    "start_time": "2024-10-06T03:03:28.337Z"
   },
   {
    "duration": 751,
    "start_time": "2024-10-06T03:05:08.780Z"
   },
   {
    "duration": 37,
    "start_time": "2024-10-06T03:05:09.533Z"
   },
   {
    "duration": 10,
    "start_time": "2024-10-06T03:05:09.572Z"
   },
   {
    "duration": 4,
    "start_time": "2024-10-06T03:05:09.584Z"
   },
   {
    "duration": 35,
    "start_time": "2024-10-06T03:05:09.591Z"
   },
   {
    "duration": 10,
    "start_time": "2024-10-06T03:05:09.628Z"
   },
   {
    "duration": 13,
    "start_time": "2024-10-06T03:05:09.640Z"
   },
   {
    "duration": 8,
    "start_time": "2024-10-06T03:05:09.655Z"
   },
   {
    "duration": 10,
    "start_time": "2024-10-06T03:05:09.665Z"
   },
   {
    "duration": 50,
    "start_time": "2024-10-06T03:05:09.676Z"
   },
   {
    "duration": 10,
    "start_time": "2024-10-06T03:05:09.727Z"
   },
   {
    "duration": 269,
    "start_time": "2024-10-06T03:05:09.739Z"
   },
   {
    "duration": 311,
    "start_time": "2024-10-06T03:05:10.009Z"
   },
   {
    "duration": 151,
    "start_time": "2024-10-06T03:05:10.323Z"
   },
   {
    "duration": 686,
    "start_time": "2024-10-06T03:05:10.475Z"
   },
   {
    "duration": 145,
    "start_time": "2024-10-06T03:05:11.163Z"
   },
   {
    "duration": 644,
    "start_time": "2024-10-06T03:05:11.310Z"
   },
   {
    "duration": 70,
    "start_time": "2024-10-06T03:16:59.371Z"
   },
   {
    "duration": 59,
    "start_time": "2024-10-06T03:17:29.249Z"
   },
   {
    "duration": 2630,
    "start_time": "2024-10-06T16:00:23.034Z"
   },
   {
    "duration": 59,
    "start_time": "2024-10-06T16:00:25.667Z"
   },
   {
    "duration": 13,
    "start_time": "2024-10-06T16:00:25.728Z"
   },
   {
    "duration": 5,
    "start_time": "2024-10-06T16:00:25.743Z"
   },
   {
    "duration": 17,
    "start_time": "2024-10-06T16:00:25.751Z"
   },
   {
    "duration": 14,
    "start_time": "2024-10-06T16:00:25.770Z"
   },
   {
    "duration": 14,
    "start_time": "2024-10-06T16:00:25.785Z"
   },
   {
    "duration": 9,
    "start_time": "2024-10-06T16:00:25.832Z"
   },
   {
    "duration": 11,
    "start_time": "2024-10-06T16:00:25.842Z"
   },
   {
    "duration": 18,
    "start_time": "2024-10-06T16:00:25.854Z"
   },
   {
    "duration": 11,
    "start_time": "2024-10-06T16:00:25.873Z"
   },
   {
    "duration": 302,
    "start_time": "2024-10-06T16:00:25.885Z"
   },
   {
    "duration": 263,
    "start_time": "2024-10-06T16:00:26.189Z"
   },
   {
    "duration": 148,
    "start_time": "2024-10-06T16:00:26.455Z"
   },
   {
    "duration": 789,
    "start_time": "2024-10-06T16:00:26.606Z"
   },
   {
    "duration": 163,
    "start_time": "2024-10-06T16:00:27.398Z"
   },
   {
    "duration": 6,
    "start_time": "2024-10-06T16:00:27.563Z"
   },
   {
    "duration": 2503,
    "start_time": "2024-10-06T17:47:18.997Z"
   },
   {
    "duration": 58,
    "start_time": "2024-10-06T17:47:21.503Z"
   },
   {
    "duration": 19,
    "start_time": "2024-10-06T17:47:21.562Z"
   },
   {
    "duration": 9,
    "start_time": "2024-10-06T17:47:21.584Z"
   },
   {
    "duration": 21,
    "start_time": "2024-10-06T17:47:21.597Z"
   },
   {
    "duration": 15,
    "start_time": "2024-10-06T17:47:21.620Z"
   },
   {
    "duration": 11,
    "start_time": "2024-10-06T17:47:21.636Z"
   },
   {
    "duration": 7,
    "start_time": "2024-10-06T17:47:21.649Z"
   },
   {
    "duration": 22,
    "start_time": "2024-10-06T17:47:21.657Z"
   },
   {
    "duration": 17,
    "start_time": "2024-10-06T17:47:21.681Z"
   },
   {
    "duration": 10,
    "start_time": "2024-10-06T17:47:21.699Z"
   },
   {
    "duration": 290,
    "start_time": "2024-10-06T17:47:21.710Z"
   },
   {
    "duration": 256,
    "start_time": "2024-10-06T17:47:22.002Z"
   },
   {
    "duration": 153,
    "start_time": "2024-10-06T17:47:22.260Z"
   },
   {
    "duration": 740,
    "start_time": "2024-10-06T17:47:22.415Z"
   },
   {
    "duration": 149,
    "start_time": "2024-10-06T17:47:23.157Z"
   },
   {
    "duration": 6,
    "start_time": "2024-10-06T17:47:23.308Z"
   },
   {
    "duration": 5,
    "start_time": "2024-10-06T17:56:46.717Z"
   },
   {
    "duration": 133,
    "start_time": "2024-10-06T18:02:08.790Z"
   },
   {
    "duration": 6,
    "start_time": "2024-10-06T18:03:53.560Z"
   },
   {
    "duration": 680,
    "start_time": "2024-10-06T18:08:53.892Z"
   },
   {
    "duration": 670,
    "start_time": "2024-10-06T18:09:02.972Z"
   },
   {
    "duration": 701,
    "start_time": "2024-10-06T18:09:11.417Z"
   },
   {
    "duration": 156,
    "start_time": "2024-10-06T18:13:18.245Z"
   },
   {
    "duration": 152,
    "start_time": "2024-10-06T18:13:25.717Z"
   },
   {
    "duration": 5,
    "start_time": "2024-10-06T18:32:17.768Z"
   },
   {
    "duration": 203,
    "start_time": "2024-10-06T18:32:40.584Z"
   },
   {
    "duration": 158,
    "start_time": "2024-10-06T18:32:49.493Z"
   },
   {
    "duration": 158,
    "start_time": "2024-10-06T18:47:04.119Z"
   },
   {
    "duration": 4,
    "start_time": "2024-10-06T18:48:41.433Z"
   },
   {
    "duration": 4,
    "start_time": "2024-10-06T18:48:56.810Z"
   },
   {
    "duration": 5,
    "start_time": "2024-10-06T18:51:06.275Z"
   },
   {
    "duration": 4,
    "start_time": "2024-10-06T19:17:11.989Z"
   },
   {
    "duration": 175,
    "start_time": "2024-10-06T22:23:49.617Z"
   },
   {
    "duration": 2626,
    "start_time": "2024-10-06T22:23:58.808Z"
   },
   {
    "duration": 54,
    "start_time": "2024-10-06T22:24:01.437Z"
   },
   {
    "duration": 12,
    "start_time": "2024-10-06T22:24:01.493Z"
   },
   {
    "duration": 4,
    "start_time": "2024-10-06T22:24:01.507Z"
   },
   {
    "duration": 20,
    "start_time": "2024-10-06T22:24:01.514Z"
   },
   {
    "duration": 11,
    "start_time": "2024-10-06T22:24:01.536Z"
   },
   {
    "duration": 12,
    "start_time": "2024-10-06T22:24:01.548Z"
   },
   {
    "duration": 8,
    "start_time": "2024-10-06T22:24:01.562Z"
   },
   {
    "duration": 11,
    "start_time": "2024-10-06T22:24:01.572Z"
   },
   {
    "duration": 51,
    "start_time": "2024-10-06T22:24:01.585Z"
   },
   {
    "duration": 11,
    "start_time": "2024-10-06T22:24:01.638Z"
   },
   {
    "duration": 282,
    "start_time": "2024-10-06T22:24:01.651Z"
   },
   {
    "duration": 273,
    "start_time": "2024-10-06T22:24:01.935Z"
   },
   {
    "duration": 144,
    "start_time": "2024-10-06T22:24:02.211Z"
   },
   {
    "duration": 801,
    "start_time": "2024-10-06T22:24:02.357Z"
   },
   {
    "duration": 159,
    "start_time": "2024-10-06T22:24:03.160Z"
   },
   {
    "duration": 11,
    "start_time": "2024-10-06T22:24:03.322Z"
   },
   {
    "duration": 149,
    "start_time": "2024-10-06T22:24:03.335Z"
   },
   {
    "duration": 6,
    "start_time": "2024-10-06T22:24:03.486Z"
   },
   {
    "duration": 176,
    "start_time": "2024-10-06T22:24:03.494Z"
   },
   {
    "duration": 175,
    "start_time": "2024-10-06T22:24:03.672Z"
   },
   {
    "duration": 4,
    "start_time": "2024-10-06T22:24:03.851Z"
   },
   {
    "duration": 4,
    "start_time": "2024-10-06T22:24:03.857Z"
   },
   {
    "duration": 6,
    "start_time": "2024-10-06T22:26:10.715Z"
   },
   {
    "duration": 1157,
    "start_time": "2024-10-06T22:26:25.190Z"
   },
   {
    "duration": 256,
    "start_time": "2024-10-06T22:27:01.196Z"
   },
   {
    "duration": 821,
    "start_time": "2024-10-06T23:08:36.298Z"
   },
   {
    "duration": 45,
    "start_time": "2024-10-06T23:08:37.121Z"
   },
   {
    "duration": 12,
    "start_time": "2024-10-06T23:08:37.169Z"
   },
   {
    "duration": 5,
    "start_time": "2024-10-06T23:08:37.183Z"
   },
   {
    "duration": 16,
    "start_time": "2024-10-06T23:08:37.190Z"
   },
   {
    "duration": 33,
    "start_time": "2024-10-06T23:08:37.208Z"
   },
   {
    "duration": 14,
    "start_time": "2024-10-06T23:08:37.243Z"
   },
   {
    "duration": 8,
    "start_time": "2024-10-06T23:08:37.258Z"
   },
   {
    "duration": 11,
    "start_time": "2024-10-06T23:08:37.267Z"
   },
   {
    "duration": 18,
    "start_time": "2024-10-06T23:08:37.280Z"
   },
   {
    "duration": 12,
    "start_time": "2024-10-06T23:08:37.331Z"
   },
   {
    "duration": 289,
    "start_time": "2024-10-06T23:08:37.344Z"
   },
   {
    "duration": 361,
    "start_time": "2024-10-06T23:08:37.635Z"
   },
   {
    "duration": 153,
    "start_time": "2024-10-06T23:08:37.998Z"
   },
   {
    "duration": 754,
    "start_time": "2024-10-06T23:08:38.153Z"
   },
   {
    "duration": 158,
    "start_time": "2024-10-06T23:08:38.910Z"
   },
   {
    "duration": 6,
    "start_time": "2024-10-06T23:08:39.070Z"
   },
   {
    "duration": 223,
    "start_time": "2024-10-06T23:08:39.079Z"
   },
   {
    "duration": 6,
    "start_time": "2024-10-06T23:08:39.304Z"
   },
   {
    "duration": 173,
    "start_time": "2024-10-06T23:08:39.312Z"
   },
   {
    "duration": 169,
    "start_time": "2024-10-06T23:08:39.488Z"
   },
   {
    "duration": 4,
    "start_time": "2024-10-06T23:08:39.660Z"
   },
   {
    "duration": 4,
    "start_time": "2024-10-06T23:08:39.666Z"
   },
   {
    "duration": 4,
    "start_time": "2024-10-06T23:12:27.546Z"
   },
   {
    "duration": 227,
    "start_time": "2024-10-06T23:23:21.876Z"
   },
   {
    "duration": 264,
    "start_time": "2024-10-06T23:23:29.663Z"
   },
   {
    "duration": 26,
    "start_time": "2024-10-06T23:26:24.117Z"
   },
   {
    "duration": 2519,
    "start_time": "2024-10-07T02:10:48.590Z"
   },
   {
    "duration": 58,
    "start_time": "2024-10-07T02:10:51.111Z"
   },
   {
    "duration": 11,
    "start_time": "2024-10-07T02:10:51.171Z"
   },
   {
    "duration": 4,
    "start_time": "2024-10-07T02:10:51.184Z"
   },
   {
    "duration": 22,
    "start_time": "2024-10-07T02:10:51.190Z"
   },
   {
    "duration": 10,
    "start_time": "2024-10-07T02:10:51.213Z"
   },
   {
    "duration": 10,
    "start_time": "2024-10-07T02:10:51.225Z"
   },
   {
    "duration": 7,
    "start_time": "2024-10-07T02:10:51.237Z"
   },
   {
    "duration": 10,
    "start_time": "2024-10-07T02:10:51.246Z"
   },
   {
    "duration": 50,
    "start_time": "2024-10-07T02:10:51.259Z"
   },
   {
    "duration": 10,
    "start_time": "2024-10-07T02:10:51.311Z"
   },
   {
    "duration": 295,
    "start_time": "2024-10-07T02:10:51.323Z"
   },
   {
    "duration": 267,
    "start_time": "2024-10-07T02:10:51.619Z"
   },
   {
    "duration": 143,
    "start_time": "2024-10-07T02:10:51.887Z"
   },
   {
    "duration": 769,
    "start_time": "2024-10-07T02:10:52.032Z"
   },
   {
    "duration": 155,
    "start_time": "2024-10-07T02:10:52.802Z"
   },
   {
    "duration": 6,
    "start_time": "2024-10-07T02:10:52.959Z"
   },
   {
    "duration": 147,
    "start_time": "2024-10-07T02:10:52.967Z"
   },
   {
    "duration": 6,
    "start_time": "2024-10-07T02:10:53.117Z"
   },
   {
    "duration": 169,
    "start_time": "2024-10-07T02:10:53.125Z"
   },
   {
    "duration": 164,
    "start_time": "2024-10-07T02:10:53.295Z"
   },
   {
    "duration": 5,
    "start_time": "2024-10-07T02:10:53.461Z"
   },
   {
    "duration": 458,
    "start_time": "2024-10-07T02:10:53.468Z"
   },
   {
    "duration": 7,
    "start_time": "2024-10-07T02:11:21.740Z"
   },
   {
    "duration": 8,
    "start_time": "2024-10-07T02:21:05.043Z"
   },
   {
    "duration": 10,
    "start_time": "2024-10-07T02:22:29.279Z"
   },
   {
    "duration": 11,
    "start_time": "2024-10-07T02:24:41.987Z"
   },
   {
    "duration": 156,
    "start_time": "2024-10-07T02:27:44.513Z"
   },
   {
    "duration": 162,
    "start_time": "2024-10-07T02:28:10.197Z"
   },
   {
    "duration": 162,
    "start_time": "2024-10-07T02:33:14.073Z"
   },
   {
    "duration": 170,
    "start_time": "2024-10-07T02:40:43.606Z"
   },
   {
    "duration": 175,
    "start_time": "2024-10-07T02:50:47.558Z"
   },
   {
    "duration": 186,
    "start_time": "2024-10-07T03:16:30.125Z"
   },
   {
    "duration": 517,
    "start_time": "2024-10-07T03:21:39.614Z"
   },
   {
    "duration": 180,
    "start_time": "2024-10-07T03:52:31.315Z"
   },
   {
    "duration": 2679,
    "start_time": "2024-10-09T03:23:58.901Z"
   },
   {
    "duration": 63,
    "start_time": "2024-10-09T03:24:01.582Z"
   },
   {
    "duration": 12,
    "start_time": "2024-10-09T03:24:01.647Z"
   },
   {
    "duration": 5,
    "start_time": "2024-10-09T03:24:01.661Z"
   },
   {
    "duration": 22,
    "start_time": "2024-10-09T03:24:01.670Z"
   },
   {
    "duration": 12,
    "start_time": "2024-10-09T03:24:01.693Z"
   },
   {
    "duration": 40,
    "start_time": "2024-10-09T03:24:01.707Z"
   },
   {
    "duration": 9,
    "start_time": "2024-10-09T03:24:01.750Z"
   },
   {
    "duration": 11,
    "start_time": "2024-10-09T03:24:01.760Z"
   },
   {
    "duration": 18,
    "start_time": "2024-10-09T03:24:01.773Z"
   },
   {
    "duration": 11,
    "start_time": "2024-10-09T03:24:01.793Z"
   },
   {
    "duration": 323,
    "start_time": "2024-10-09T03:24:01.806Z"
   },
   {
    "duration": 276,
    "start_time": "2024-10-09T03:24:02.131Z"
   },
   {
    "duration": 146,
    "start_time": "2024-10-09T03:24:02.411Z"
   },
   {
    "duration": 794,
    "start_time": "2024-10-09T03:24:02.559Z"
   },
   {
    "duration": 166,
    "start_time": "2024-10-09T03:24:03.354Z"
   },
   {
    "duration": 6,
    "start_time": "2024-10-09T03:24:03.521Z"
   },
   {
    "duration": 157,
    "start_time": "2024-10-09T03:24:03.529Z"
   },
   {
    "duration": 7,
    "start_time": "2024-10-09T03:24:03.688Z"
   },
   {
    "duration": 174,
    "start_time": "2024-10-09T03:24:03.697Z"
   },
   {
    "duration": 170,
    "start_time": "2024-10-09T03:24:03.873Z"
   },
   {
    "duration": 5,
    "start_time": "2024-10-09T03:24:04.044Z"
   },
   {
    "duration": 177,
    "start_time": "2024-10-09T03:24:04.051Z"
   },
   {
    "duration": 194,
    "start_time": "2024-10-09T03:24:04.230Z"
   },
   {
    "duration": 337,
    "start_time": "2024-10-09T03:24:04.426Z"
   },
   {
    "duration": 3,
    "start_time": "2024-10-09T03:26:42.425Z"
   },
   {
    "duration": 818,
    "start_time": "2024-10-09T03:26:50.521Z"
   },
   {
    "duration": 49,
    "start_time": "2024-10-09T03:26:51.341Z"
   },
   {
    "duration": 11,
    "start_time": "2024-10-09T03:26:51.392Z"
   },
   {
    "duration": 4,
    "start_time": "2024-10-09T03:26:51.405Z"
   },
   {
    "duration": 56,
    "start_time": "2024-10-09T03:26:51.412Z"
   },
   {
    "duration": 13,
    "start_time": "2024-10-09T03:26:51.470Z"
   },
   {
    "duration": 14,
    "start_time": "2024-10-09T03:26:51.485Z"
   },
   {
    "duration": 8,
    "start_time": "2024-10-09T03:26:51.501Z"
   },
   {
    "duration": 10,
    "start_time": "2024-10-09T03:26:51.511Z"
   },
   {
    "duration": 37,
    "start_time": "2024-10-09T03:26:51.523Z"
   },
   {
    "duration": 14,
    "start_time": "2024-10-09T03:26:51.561Z"
   },
   {
    "duration": 302,
    "start_time": "2024-10-09T03:26:51.576Z"
   },
   {
    "duration": 322,
    "start_time": "2024-10-09T03:26:51.881Z"
   },
   {
    "duration": 148,
    "start_time": "2024-10-09T03:26:52.207Z"
   },
   {
    "duration": 733,
    "start_time": "2024-10-09T03:26:52.356Z"
   },
   {
    "duration": 149,
    "start_time": "2024-10-09T03:26:53.090Z"
   },
   {
    "duration": 6,
    "start_time": "2024-10-09T03:26:53.244Z"
   },
   {
    "duration": 218,
    "start_time": "2024-10-09T03:26:53.252Z"
   },
   {
    "duration": 6,
    "start_time": "2024-10-09T03:26:53.473Z"
   },
   {
    "duration": 164,
    "start_time": "2024-10-09T03:26:53.481Z"
   },
   {
    "duration": 162,
    "start_time": "2024-10-09T03:26:53.647Z"
   },
   {
    "duration": 5,
    "start_time": "2024-10-09T03:26:53.811Z"
   },
   {
    "duration": 178,
    "start_time": "2024-10-09T03:26:53.818Z"
   },
   {
    "duration": 197,
    "start_time": "2024-10-09T03:26:53.998Z"
   },
   {
    "duration": 234,
    "start_time": "2024-10-09T03:26:54.196Z"
   },
   {
    "duration": 182,
    "start_time": "2024-10-09T03:30:49.676Z"
   },
   {
    "duration": 2595,
    "start_time": "2024-10-09T23:29:58.147Z"
   },
   {
    "duration": 53,
    "start_time": "2024-10-09T23:30:00.744Z"
   },
   {
    "duration": 11,
    "start_time": "2024-10-09T23:30:00.798Z"
   },
   {
    "duration": 4,
    "start_time": "2024-10-09T23:30:00.812Z"
   },
   {
    "duration": 22,
    "start_time": "2024-10-09T23:30:00.818Z"
   },
   {
    "duration": 10,
    "start_time": "2024-10-09T23:30:00.841Z"
   },
   {
    "duration": 11,
    "start_time": "2024-10-09T23:30:00.853Z"
   },
   {
    "duration": 8,
    "start_time": "2024-10-09T23:30:00.865Z"
   },
   {
    "duration": 41,
    "start_time": "2024-10-09T23:30:00.874Z"
   },
   {
    "duration": 17,
    "start_time": "2024-10-09T23:30:00.919Z"
   },
   {
    "duration": 10,
    "start_time": "2024-10-09T23:30:00.938Z"
   },
   {
    "duration": 301,
    "start_time": "2024-10-09T23:30:00.950Z"
   },
   {
    "duration": 288,
    "start_time": "2024-10-09T23:30:01.253Z"
   },
   {
    "duration": 149,
    "start_time": "2024-10-09T23:30:01.543Z"
   },
   {
    "duration": 769,
    "start_time": "2024-10-09T23:30:01.694Z"
   },
   {
    "duration": 154,
    "start_time": "2024-10-09T23:30:02.464Z"
   },
   {
    "duration": 5,
    "start_time": "2024-10-09T23:30:02.620Z"
   },
   {
    "duration": 166,
    "start_time": "2024-10-09T23:30:02.627Z"
   },
   {
    "duration": 15,
    "start_time": "2024-10-09T23:30:02.794Z"
   },
   {
    "duration": 160,
    "start_time": "2024-10-09T23:30:02.811Z"
   },
   {
    "duration": 171,
    "start_time": "2024-10-09T23:30:02.973Z"
   },
   {
    "duration": 4,
    "start_time": "2024-10-09T23:30:03.146Z"
   },
   {
    "duration": 180,
    "start_time": "2024-10-09T23:30:03.153Z"
   },
   {
    "duration": 252,
    "start_time": "2024-10-09T23:30:03.334Z"
   },
   {
    "duration": 194,
    "start_time": "2024-10-09T23:30:03.588Z"
   },
   {
    "duration": 7,
    "start_time": "2024-10-09T23:31:56.145Z"
   },
   {
    "duration": 8,
    "start_time": "2024-10-09T23:32:54.026Z"
   },
   {
    "duration": 11,
    "start_time": "2024-10-09T23:41:00.032Z"
   },
   {
    "duration": 221,
    "start_time": "2024-10-09T23:42:31.550Z"
   },
   {
    "duration": 11,
    "start_time": "2024-10-09T23:42:41.619Z"
   },
   {
    "duration": 4,
    "start_time": "2024-10-09T23:45:15.670Z"
   },
   {
    "duration": 5,
    "start_time": "2024-10-09T23:46:09.636Z"
   },
   {
    "duration": 2450,
    "start_time": "2024-10-10T02:39:45.946Z"
   },
   {
    "duration": 50,
    "start_time": "2024-10-10T02:39:48.399Z"
   },
   {
    "duration": 12,
    "start_time": "2024-10-10T02:39:48.450Z"
   },
   {
    "duration": 6,
    "start_time": "2024-10-10T02:39:48.464Z"
   },
   {
    "duration": 30,
    "start_time": "2024-10-10T02:39:48.472Z"
   },
   {
    "duration": 10,
    "start_time": "2024-10-10T02:39:48.504Z"
   },
   {
    "duration": 10,
    "start_time": "2024-10-10T02:39:48.516Z"
   },
   {
    "duration": 7,
    "start_time": "2024-10-10T02:39:48.527Z"
   },
   {
    "duration": 9,
    "start_time": "2024-10-10T02:39:48.536Z"
   },
   {
    "duration": 46,
    "start_time": "2024-10-10T02:39:48.547Z"
   },
   {
    "duration": 10,
    "start_time": "2024-10-10T02:39:48.595Z"
   },
   {
    "duration": 276,
    "start_time": "2024-10-10T02:39:48.606Z"
   },
   {
    "duration": 253,
    "start_time": "2024-10-10T02:39:48.886Z"
   },
   {
    "duration": 142,
    "start_time": "2024-10-10T02:39:49.144Z"
   },
   {
    "duration": 736,
    "start_time": "2024-10-10T02:39:49.288Z"
   },
   {
    "duration": 154,
    "start_time": "2024-10-10T02:39:50.026Z"
   },
   {
    "duration": 10,
    "start_time": "2024-10-10T02:39:50.181Z"
   },
   {
    "duration": 146,
    "start_time": "2024-10-10T02:39:50.193Z"
   },
   {
    "duration": 5,
    "start_time": "2024-10-10T02:39:50.341Z"
   },
   {
    "duration": 167,
    "start_time": "2024-10-10T02:39:50.348Z"
   },
   {
    "duration": 220,
    "start_time": "2024-10-10T02:39:50.516Z"
   },
   {
    "duration": 4,
    "start_time": "2024-10-10T02:39:50.738Z"
   },
   {
    "duration": 173,
    "start_time": "2024-10-10T02:39:50.744Z"
   },
   {
    "duration": 173,
    "start_time": "2024-10-10T02:39:50.919Z"
   },
   {
    "duration": 193,
    "start_time": "2024-10-10T02:39:51.095Z"
   },
   {
    "duration": 10,
    "start_time": "2024-10-10T02:39:51.290Z"
   },
   {
    "duration": 4,
    "start_time": "2024-10-10T02:39:51.302Z"
   },
   {
    "duration": 9,
    "start_time": "2024-10-10T02:39:51.308Z"
   },
   {
    "duration": 4,
    "start_time": "2024-10-10T02:39:51.319Z"
   },
   {
    "duration": 17,
    "start_time": "2024-10-10T02:53:32.418Z"
   },
   {
    "duration": 4,
    "start_time": "2024-10-10T02:53:58.458Z"
   },
   {
    "duration": 262,
    "start_time": "2024-10-10T03:16:06.895Z"
   },
   {
    "duration": 483,
    "start_time": "2024-10-10T03:16:17.855Z"
   },
   {
    "duration": 2572,
    "start_time": "2024-10-10T11:22:55.916Z"
   },
   {
    "duration": 51,
    "start_time": "2024-10-10T11:22:58.490Z"
   },
   {
    "duration": 10,
    "start_time": "2024-10-10T11:22:58.543Z"
   },
   {
    "duration": 4,
    "start_time": "2024-10-10T11:22:58.555Z"
   },
   {
    "duration": 20,
    "start_time": "2024-10-10T11:22:58.561Z"
   },
   {
    "duration": 11,
    "start_time": "2024-10-10T11:22:58.583Z"
   },
   {
    "duration": 11,
    "start_time": "2024-10-10T11:22:58.596Z"
   },
   {
    "duration": 9,
    "start_time": "2024-10-10T11:22:58.608Z"
   },
   {
    "duration": 10,
    "start_time": "2024-10-10T11:22:58.618Z"
   },
   {
    "duration": 46,
    "start_time": "2024-10-10T11:22:58.632Z"
   },
   {
    "duration": 10,
    "start_time": "2024-10-10T11:22:58.679Z"
   },
   {
    "duration": 274,
    "start_time": "2024-10-10T11:22:58.691Z"
   },
   {
    "duration": 258,
    "start_time": "2024-10-10T11:22:58.969Z"
   },
   {
    "duration": 144,
    "start_time": "2024-10-10T11:22:59.228Z"
   },
   {
    "duration": 749,
    "start_time": "2024-10-10T11:22:59.374Z"
   },
   {
    "duration": 148,
    "start_time": "2024-10-10T11:23:00.124Z"
   },
   {
    "duration": 5,
    "start_time": "2024-10-10T11:23:00.274Z"
   },
   {
    "duration": 150,
    "start_time": "2024-10-10T11:23:00.281Z"
   },
   {
    "duration": 6,
    "start_time": "2024-10-10T11:23:00.433Z"
   },
   {
    "duration": 167,
    "start_time": "2024-10-10T11:23:00.441Z"
   },
   {
    "duration": 166,
    "start_time": "2024-10-10T11:23:00.610Z"
   },
   {
    "duration": 5,
    "start_time": "2024-10-10T11:23:00.777Z"
   },
   {
    "duration": 176,
    "start_time": "2024-10-10T11:23:00.783Z"
   },
   {
    "duration": 254,
    "start_time": "2024-10-10T11:23:00.969Z"
   },
   {
    "duration": 194,
    "start_time": "2024-10-10T11:23:01.225Z"
   },
   {
    "duration": 10,
    "start_time": "2024-10-10T11:23:01.422Z"
   },
   {
    "duration": 4,
    "start_time": "2024-10-10T11:23:01.434Z"
   },
   {
    "duration": 30,
    "start_time": "2024-10-10T11:23:01.443Z"
   },
   {
    "duration": 5,
    "start_time": "2024-10-10T11:23:01.475Z"
   },
   {
    "duration": 11,
    "start_time": "2024-10-10T11:49:18.024Z"
   },
   {
    "duration": 12,
    "start_time": "2024-10-10T11:50:03.756Z"
   },
   {
    "duration": 9,
    "start_time": "2024-10-10T22:37:06.600Z"
   },
   {
    "duration": 4,
    "start_time": "2024-10-10T22:54:58.766Z"
   },
   {
    "duration": 4,
    "start_time": "2024-10-10T22:56:06.635Z"
   },
   {
    "duration": 4,
    "start_time": "2024-10-10T23:10:13.563Z"
   },
   {
    "duration": 4,
    "start_time": "2024-10-10T23:23:09.291Z"
   },
   {
    "duration": 4,
    "start_time": "2024-10-10T23:25:19.972Z"
   },
   {
    "duration": 2536,
    "start_time": "2024-10-12T16:57:12.339Z"
   },
   {
    "duration": 55,
    "start_time": "2024-10-12T16:57:14.877Z"
   },
   {
    "duration": 11,
    "start_time": "2024-10-12T16:57:14.934Z"
   },
   {
    "duration": 5,
    "start_time": "2024-10-12T16:57:14.947Z"
   },
   {
    "duration": 15,
    "start_time": "2024-10-12T16:57:14.954Z"
   },
   {
    "duration": 10,
    "start_time": "2024-10-12T16:57:14.970Z"
   },
   {
    "duration": 11,
    "start_time": "2024-10-12T16:57:14.982Z"
   },
   {
    "duration": 8,
    "start_time": "2024-10-12T16:57:14.994Z"
   },
   {
    "duration": 40,
    "start_time": "2024-10-12T16:57:15.003Z"
   },
   {
    "duration": 19,
    "start_time": "2024-10-12T16:57:15.047Z"
   },
   {
    "duration": 10,
    "start_time": "2024-10-12T16:57:15.068Z"
   },
   {
    "duration": 312,
    "start_time": "2024-10-12T16:57:15.079Z"
   },
   {
    "duration": 273,
    "start_time": "2024-10-12T16:57:15.394Z"
   },
   {
    "duration": 145,
    "start_time": "2024-10-12T16:57:15.669Z"
   },
   {
    "duration": 761,
    "start_time": "2024-10-12T16:57:15.815Z"
   },
   {
    "duration": 147,
    "start_time": "2024-10-12T16:57:16.578Z"
   },
   {
    "duration": 15,
    "start_time": "2024-10-12T16:57:16.727Z"
   },
   {
    "duration": 145,
    "start_time": "2024-10-12T16:57:16.744Z"
   },
   {
    "duration": 6,
    "start_time": "2024-10-12T16:57:16.891Z"
   },
   {
    "duration": 166,
    "start_time": "2024-10-12T16:57:16.899Z"
   },
   {
    "duration": 168,
    "start_time": "2024-10-12T16:57:17.068Z"
   },
   {
    "duration": 5,
    "start_time": "2024-10-12T16:57:17.242Z"
   },
   {
    "duration": 194,
    "start_time": "2024-10-12T16:57:17.249Z"
   },
   {
    "duration": 240,
    "start_time": "2024-10-12T16:57:17.446Z"
   },
   {
    "duration": 189,
    "start_time": "2024-10-12T16:57:17.688Z"
   },
   {
    "duration": 10,
    "start_time": "2024-10-12T16:57:17.880Z"
   },
   {
    "duration": 4,
    "start_time": "2024-10-12T16:57:17.891Z"
   },
   {
    "duration": 9,
    "start_time": "2024-10-12T16:57:17.900Z"
   },
   {
    "duration": 4,
    "start_time": "2024-10-12T16:57:17.911Z"
   },
   {
    "duration": 143,
    "start_time": "2024-10-12T17:55:05.279Z"
   },
   {
    "duration": 148,
    "start_time": "2024-10-12T17:55:23.382Z"
   },
   {
    "duration": 135,
    "start_time": "2024-10-12T17:55:42.815Z"
   },
   {
    "duration": 127,
    "start_time": "2024-10-12T17:55:54.348Z"
   },
   {
    "duration": 152,
    "start_time": "2024-10-12T17:57:56.844Z"
   },
   {
    "duration": 150,
    "start_time": "2024-10-12T17:58:16.241Z"
   },
   {
    "duration": 169,
    "start_time": "2024-10-12T17:58:23.197Z"
   },
   {
    "duration": 133,
    "start_time": "2024-10-12T18:02:31.695Z"
   },
   {
    "duration": 131,
    "start_time": "2024-10-12T18:02:39.151Z"
   },
   {
    "duration": 128,
    "start_time": "2024-10-12T18:06:33.100Z"
   },
   {
    "duration": 154,
    "start_time": "2024-10-12T18:08:39.808Z"
   },
   {
    "duration": 5,
    "start_time": "2024-10-12T18:09:12.604Z"
   },
   {
    "duration": 161,
    "start_time": "2024-10-12T18:13:10.260Z"
   },
   {
    "duration": 171,
    "start_time": "2024-10-12T18:13:59.192Z"
   },
   {
    "duration": 18,
    "start_time": "2024-10-12T18:15:12.983Z"
   },
   {
    "duration": 2467,
    "start_time": "2024-10-12T18:53:28.735Z"
   },
   {
    "duration": 48,
    "start_time": "2024-10-12T18:53:31.204Z"
   },
   {
    "duration": 11,
    "start_time": "2024-10-12T18:53:31.253Z"
   },
   {
    "duration": 4,
    "start_time": "2024-10-12T18:53:31.266Z"
   },
   {
    "duration": 24,
    "start_time": "2024-10-12T18:53:31.271Z"
   },
   {
    "duration": 9,
    "start_time": "2024-10-12T18:53:31.298Z"
   },
   {
    "duration": 10,
    "start_time": "2024-10-12T18:53:31.308Z"
   },
   {
    "duration": 8,
    "start_time": "2024-10-12T18:53:31.320Z"
   },
   {
    "duration": 10,
    "start_time": "2024-10-12T18:53:31.329Z"
   },
   {
    "duration": 45,
    "start_time": "2024-10-12T18:53:31.342Z"
   },
   {
    "duration": 11,
    "start_time": "2024-10-12T18:53:31.389Z"
   },
   {
    "duration": 299,
    "start_time": "2024-10-12T18:53:31.401Z"
   },
   {
    "duration": 281,
    "start_time": "2024-10-12T18:53:31.702Z"
   },
   {
    "duration": 135,
    "start_time": "2024-10-12T18:53:31.984Z"
   },
   {
    "duration": 750,
    "start_time": "2024-10-12T18:53:32.121Z"
   },
   {
    "duration": 143,
    "start_time": "2024-10-12T18:53:32.873Z"
   },
   {
    "duration": 5,
    "start_time": "2024-10-12T18:53:33.018Z"
   },
   {
    "duration": 170,
    "start_time": "2024-10-12T18:53:33.026Z"
   },
   {
    "duration": 7,
    "start_time": "2024-10-12T18:53:33.198Z"
   },
   {
    "duration": 163,
    "start_time": "2024-10-12T18:53:33.207Z"
   },
   {
    "duration": 168,
    "start_time": "2024-10-12T18:53:33.372Z"
   },
   {
    "duration": 4,
    "start_time": "2024-10-12T18:53:33.541Z"
   },
   {
    "duration": 16,
    "start_time": "2024-10-12T18:53:33.547Z"
   },
   {
    "duration": 184,
    "start_time": "2024-10-12T18:53:33.565Z"
   },
   {
    "duration": 183,
    "start_time": "2024-10-12T18:53:33.752Z"
   },
   {
    "duration": 193,
    "start_time": "2024-10-12T18:53:33.937Z"
   },
   {
    "duration": 10,
    "start_time": "2024-10-12T18:53:34.131Z"
   },
   {
    "duration": 5,
    "start_time": "2024-10-12T18:53:34.144Z"
   },
   {
    "duration": 10,
    "start_time": "2024-10-12T18:53:34.150Z"
   },
   {
    "duration": 28,
    "start_time": "2024-10-12T18:53:34.161Z"
   },
   {
    "duration": 160,
    "start_time": "2024-10-12T18:56:18.949Z"
   },
   {
    "duration": 167,
    "start_time": "2024-10-12T19:01:41.369Z"
   },
   {
    "duration": 159,
    "start_time": "2024-10-12T19:02:39.735Z"
   },
   {
    "duration": 2504,
    "start_time": "2024-10-12T22:29:27.075Z"
   },
   {
    "duration": 52,
    "start_time": "2024-10-12T22:29:29.583Z"
   },
   {
    "duration": 10,
    "start_time": "2024-10-12T22:29:29.637Z"
   },
   {
    "duration": 4,
    "start_time": "2024-10-12T22:29:29.649Z"
   },
   {
    "duration": 14,
    "start_time": "2024-10-12T22:29:29.657Z"
   },
   {
    "duration": 9,
    "start_time": "2024-10-12T22:29:29.673Z"
   },
   {
    "duration": 11,
    "start_time": "2024-10-12T22:29:29.683Z"
   },
   {
    "duration": 34,
    "start_time": "2024-10-12T22:29:29.695Z"
   },
   {
    "duration": 10,
    "start_time": "2024-10-12T22:29:29.730Z"
   },
   {
    "duration": 17,
    "start_time": "2024-10-12T22:29:29.742Z"
   },
   {
    "duration": 10,
    "start_time": "2024-10-12T22:29:29.761Z"
   },
   {
    "duration": 288,
    "start_time": "2024-10-12T22:29:29.772Z"
   },
   {
    "duration": 251,
    "start_time": "2024-10-12T22:29:30.061Z"
   },
   {
    "duration": 166,
    "start_time": "2024-10-12T22:29:30.317Z"
   },
   {
    "duration": 781,
    "start_time": "2024-10-12T22:29:30.485Z"
   },
   {
    "duration": 148,
    "start_time": "2024-10-12T22:29:31.268Z"
   },
   {
    "duration": 5,
    "start_time": "2024-10-12T22:29:31.423Z"
   },
   {
    "duration": 144,
    "start_time": "2024-10-12T22:29:31.430Z"
   },
   {
    "duration": 6,
    "start_time": "2024-10-12T22:29:31.576Z"
   },
   {
    "duration": 162,
    "start_time": "2024-10-12T22:29:31.583Z"
   },
   {
    "duration": 162,
    "start_time": "2024-10-12T22:29:31.747Z"
   },
   {
    "duration": 5,
    "start_time": "2024-10-12T22:29:31.910Z"
   },
   {
    "duration": 16,
    "start_time": "2024-10-12T22:29:31.925Z"
   },
   {
    "duration": 167,
    "start_time": "2024-10-12T22:29:31.942Z"
   },
   {
    "duration": 173,
    "start_time": "2024-10-12T22:29:32.111Z"
   },
   {
    "duration": 165,
    "start_time": "2024-10-12T22:29:32.286Z"
   },
   {
    "duration": 10,
    "start_time": "2024-10-12T22:29:32.453Z"
   },
   {
    "duration": 4,
    "start_time": "2024-10-12T22:29:32.465Z"
   },
   {
    "duration": 10,
    "start_time": "2024-10-12T22:29:32.470Z"
   },
   {
    "duration": 4,
    "start_time": "2024-10-12T22:29:32.482Z"
   },
   {
    "duration": 11,
    "start_time": "2024-10-12T22:35:23.611Z"
   },
   {
    "duration": 213,
    "start_time": "2024-10-12T23:22:15.370Z"
   },
   {
    "duration": 5,
    "start_time": "2024-10-12T23:22:21.129Z"
   },
   {
    "duration": 5,
    "start_time": "2024-10-12T23:22:33.399Z"
   },
   {
    "duration": 3,
    "start_time": "2024-10-12T23:25:50.728Z"
   },
   {
    "duration": 6,
    "start_time": "2024-10-12T23:26:02.441Z"
   },
   {
    "duration": 4,
    "start_time": "2024-10-12T23:26:16.759Z"
   },
   {
    "duration": 5,
    "start_time": "2024-10-12T23:27:35.775Z"
   },
   {
    "duration": 15,
    "start_time": "2024-10-12T23:42:05.378Z"
   },
   {
    "duration": 6,
    "start_time": "2024-10-12T23:42:39.105Z"
   }
  ],
  "kernelspec": {
   "display_name": "Python 3 (ipykernel)",
   "language": "python",
   "name": "python3"
  },
  "language_info": {
   "codemirror_mode": {
    "name": "ipython",
    "version": 3
   },
   "file_extension": ".py",
   "mimetype": "text/x-python",
   "name": "python",
   "nbconvert_exporter": "python",
   "pygments_lexer": "ipython3",
   "version": "3.9.19"
  },
  "toc": {
   "base_numbering": 1,
   "nav_menu": {
    "height": "150px",
    "width": "360px"
   },
   "number_sections": true,
   "sideBar": true,
   "skip_h1_title": true,
   "title_cell": "Table of Contents",
   "title_sidebar": "Contents",
   "toc_cell": false,
   "toc_position": {},
   "toc_section_display": true,
   "toc_window_display": false
  }
 },
 "nbformat": 4,
 "nbformat_minor": 2
}
